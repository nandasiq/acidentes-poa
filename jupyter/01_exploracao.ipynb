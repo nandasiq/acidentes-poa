{
 "cells": [
  {
   "cell_type": "markdown",
   "id": "62854e67",
   "metadata": {},
   "source": [
    "# 01 - Exploração e Limpeza de Dados\n",
    "Autora: Fernanda Baptista de Siqueira  \n",
    "Curso: MBA em Tecnologia para Negócios – AI, Data Science e Big Data  \n",
    "Tema: Análise de Acidentes de Trânsito em Porto Alegre (2020–2024)\n",
    "\n",
    "---\n",
    "\n",
    "## 1. Importação e Configuração\n",
    "Carregamento das bibliotecas e dataset bruto.\n"
   ]
  },
  {
   "cell_type": "code",
   "execution_count": 3,
   "id": "97e106da",
   "metadata": {},
   "outputs": [],
   "source": [
    "# Manipulação e Análise\n",
    "import pandas as pd\n",
    "import numpy as np\n",
    "\n",
    "# Visualização\n",
    "import matplotlib.pyplot as plt\n",
    "import seaborn as sns\n",
    "\n",
    "# Salvar dataframes\n",
    "import os\n",
    "\n",
    "# Configurações visuais\n",
    "plt.style.use(\"seaborn-v0_8\")\n",
    "sns.set_theme(palette=\"deep\")\n",
    "pd.set_option('display.max_columns', None)\n",
    "\n"
   ]
  },
  {
   "cell_type": "markdown",
   "id": "7bf48ec7",
   "metadata": {},
   "source": [
    "## 2. Leitura e Schema Inicial\n",
    "1) Carrega o arquivo `acidentes.csv`\n"
   ]
  },
  {
   "cell_type": "code",
   "execution_count": 4,
   "id": "67a3b8ee",
   "metadata": {},
   "outputs": [
    {
     "name": "stdout",
     "output_type": "stream",
     "text": [
      "CSV original lido com sucesso!\n"
     ]
    }
   ],
   "source": [
    "caminho_dados = '../dados/primarios/acidentes.csv'\n",
    "\n",
    "try:\n",
    "    df = pd.read_csv(caminho_dados, sep=';', encoding='utf-8')\n",
    "    print(\"CSV original lido com sucesso!\")\n",
    "except FileNotFoundError:\n",
    "    print(f\"Erro: Arquivo '{caminho_dados}' não encontrado. Verifique o caminho.\")\n",
    "except Exception as e:\n",
    "    print(f\"Ocorreu um erro: {e}\")"
   ]
  },
  {
   "cell_type": "markdown",
   "id": "a003550d",
   "metadata": {},
   "source": [
    "2) Entende e inspeciona DataFrame"
   ]
  },
  {
   "cell_type": "code",
   "execution_count": 5,
   "id": "46f1a956",
   "metadata": {},
   "outputs": [
    {
     "name": "stdout",
     "output_type": "stream",
     "text": [
      "\n",
      "Cinco primeiras linhas:\n",
      "         data_extracao  predial1  queda_arr                 data  feridos  \\\n",
      "0  2025-06-01 01:33:13       0.0        0.0  2020-10-17 00:00:00        1   \n",
      "1  2025-06-01 01:33:13     598.0        0.0  2020-01-01 00:00:00        1   \n",
      "2  2025-06-01 01:33:13    1271.0        0.0  2020-01-01 00:00:00        1   \n",
      "3  2025-06-01 01:33:13    1901.0        0.0  2020-01-02 00:00:00        2   \n",
      "4  2025-06-01 01:33:13    3302.0        0.0  2020-01-02 00:00:00        1   \n",
      "\n",
      "   feridos_gr  mortes  morte_post  fatais  auto  taxi  lotacao  onibus_urb  \\\n",
      "0           0       0           0       0     3     0        0           0   \n",
      "1           0       0           0       0     0     1        0           0   \n",
      "2           1       0           0       0     1     0        0           0   \n",
      "3           0       0           0       0     0     0        0           0   \n",
      "4           0       0           0       0     1     0        0           0   \n",
      "\n",
      "   onibus_met  onibus_int  caminhao  moto  carroca  bicicleta  outro  \\\n",
      "0           0           0         0     1        0          0      0   \n",
      "1           0           0         0     1        0          0      0   \n",
      "2           0           0         0     0        0          0      0   \n",
      "3           0           0         0     1        0          0      0   \n",
      "4           0           0         0     1        0          0      0   \n",
      "\n",
      "   cont_vit  ups  patinete  idacidente  longitude   latitude  \\\n",
      "0         1    5         0      190816   0.000000   0.000000   \n",
      "1         1    5         0      669089        NaN        NaN   \n",
      "2         1    5         0      669097        NaN        NaN   \n",
      "3         1    5         0      669098        NaN        NaN   \n",
      "4         1    5         0      669099 -51.211535 -30.081535   \n",
      "\n",
      "                 log1              log2      tipo_acid       dia_sem  \\\n",
      "0    R MARCOS MOREIRA  R GASTON ENGLERT   ABALROAMENTO        SÁBADO   \n",
      "1  AV BENTO GONCALVES               NaN   ABALROAMENTO  QUARTA-FEIRA   \n",
      "2    AV INDEPENDENCIA               NaN  ATROPELAMENTO  QUARTA-FEIRA   \n",
      "3    AV EDUARDO PRADO               NaN  ATROPELAMENTO  QUINTA-FEIRA   \n",
      "4      AV TERESOPOLIS               NaN   ABALROAMENTO  QUINTA-FEIRA   \n",
      "\n",
      "               hora noite_dia regiao consorcio  \n",
      "0  19:00:00.0000000     NOITE  NORTE       NaN  \n",
      "1  03:00:00.0000000     NOITE  LESTE       NaN  \n",
      "2  23:00:00.0000000     NOITE  LESTE       NaN  \n",
      "3  00:05:00.0000000     NOITE    SUL       NaN  \n",
      "4  09:00:00.0000000       DIA    SUL       NaN  \n",
      "\n",
      "Dimensões do Dataset (linhas, colunas)\n",
      "(69521, 34)\n",
      "\n",
      "Informações gerais do DataFrame:\n",
      "<class 'pandas.core.frame.DataFrame'>\n",
      "RangeIndex: 69521 entries, 0 to 69520\n",
      "Data columns (total 34 columns):\n",
      " #   Column         Non-Null Count  Dtype  \n",
      "---  ------         --------------  -----  \n",
      " 0   data_extracao  69521 non-null  object \n",
      " 1   predial1       65442 non-null  float64\n",
      " 2   queda_arr      69521 non-null  float64\n",
      " 3   data           69521 non-null  object \n",
      " 4   feridos        69521 non-null  int64  \n",
      " 5   feridos_gr     69521 non-null  int64  \n",
      " 6   mortes         69521 non-null  int64  \n",
      " 7   morte_post     69521 non-null  int64  \n",
      " 8   fatais         69521 non-null  int64  \n",
      " 9   auto           69521 non-null  int64  \n",
      " 10  taxi           69521 non-null  int64  \n",
      " 11  lotacao        69521 non-null  int64  \n",
      " 12  onibus_urb     69521 non-null  int64  \n",
      " 13  onibus_met     69521 non-null  int64  \n",
      " 14  onibus_int     69521 non-null  int64  \n",
      " 15  caminhao       69521 non-null  int64  \n",
      " 16  moto           69521 non-null  int64  \n",
      " 17  carroca        69521 non-null  int64  \n",
      " 18  bicicleta      69521 non-null  int64  \n",
      " 19  outro          69521 non-null  int64  \n",
      " 20  cont_vit       69521 non-null  int64  \n",
      " 21  ups            69521 non-null  int64  \n",
      " 22  patinete       69521 non-null  int64  \n",
      " 23  idacidente     69521 non-null  int64  \n",
      " 24  longitude      59218 non-null  float64\n",
      " 25  latitude       59218 non-null  float64\n",
      " 26  log1           69471 non-null  object \n",
      " 27  log2           19172 non-null  object \n",
      " 28  tipo_acid      69521 non-null  object \n",
      " 29  dia_sem        69521 non-null  object \n",
      " 30  hora           68968 non-null  object \n",
      " 31  noite_dia      69521 non-null  object \n",
      " 32  regiao         69520 non-null  object \n",
      " 33  consorcio      2207 non-null   object \n",
      "dtypes: float64(4), int64(20), object(10)\n",
      "memory usage: 18.0+ MB\n",
      "\n",
      "Contagem de Valores Ausentes por Coluna\n",
      "data_extracao        0\n",
      "predial1          4079\n",
      "queda_arr            0\n",
      "data                 0\n",
      "feridos              0\n",
      "feridos_gr           0\n",
      "mortes               0\n",
      "morte_post           0\n",
      "fatais               0\n",
      "auto                 0\n",
      "taxi                 0\n",
      "lotacao              0\n",
      "onibus_urb           0\n",
      "onibus_met           0\n",
      "onibus_int           0\n",
      "caminhao             0\n",
      "moto                 0\n",
      "carroca              0\n",
      "bicicleta            0\n",
      "outro                0\n",
      "cont_vit             0\n",
      "ups                  0\n",
      "patinete             0\n",
      "idacidente           0\n",
      "longitude        10303\n",
      "latitude         10303\n",
      "log1                50\n",
      "log2             50349\n",
      "tipo_acid            0\n",
      "dia_sem              0\n",
      "hora               553\n",
      "noite_dia            0\n",
      "regiao               1\n",
      "consorcio        67314\n",
      "dtype: int64\n"
     ]
    }
   ],
   "source": [
    "# Lista as cinco primeira linhas\n",
    "print(\"\\nCinco primeiras linhas:\")\n",
    "print(df.head())\n",
    "\n",
    "# Mostra o número de linhas e colunas\n",
    "print(\"\\nDimensões do Dataset (linhas, colunas)\")\n",
    "print(df.shape)\n",
    "\n",
    "# Mostra tipo de dados, valores não nulos\n",
    "print(\"\\nInformações gerais do DataFrame:\")\n",
    "df.info()\n",
    "\n",
    "# Conta valores ausentes por coluna\n",
    "print(\"\\nContagem de Valores Ausentes por Coluna\")\n",
    "print(df.isnull().sum())"
   ]
  },
  {
   "cell_type": "markdown",
   "id": "5bd5db9c",
   "metadata": {},
   "source": [
    "3) Limpa nomes colunas; remove 'data_extracao', 'consorcio', 'latitude' e 'longitude'"
   ]
  },
  {
   "cell_type": "code",
   "execution_count": 6,
   "id": "94fd4b5f",
   "metadata": {},
   "outputs": [
    {
     "name": "stdout",
     "output_type": "stream",
     "text": [
      "Index(['predial1', 'queda_arr', 'data', 'feridos', 'feridos_gr', 'mortes',\n",
      "       'morte_post', 'fatais', 'auto', 'taxi', 'lotacao', 'onibus_urb',\n",
      "       'onibus_met', 'onibus_int', 'caminhao', 'moto', 'carroca', 'bicicleta',\n",
      "       'outro', 'cont_vit', 'ups', 'patinete', 'idacidente', 'log1', 'log2',\n",
      "       'tipo_acid', 'dia_sem', 'hora', 'noite_dia', 'regiao'],\n",
      "      dtype='object')\n"
     ]
    }
   ],
   "source": [
    "# Remove espaços em branco no início/fim dos nomes das colunas (boa prática)\n",
    "df.columns = df.columns.str.strip()\n",
    "\n",
    "# Remove colunas não utilizadas\n",
    "df = df.drop(columns=['data_extracao', 'consorcio', 'latitude', 'longitude'], errors='ignore')\n",
    "\n",
    "# Lista nome de colunas\n",
    "print(df.columns)"
   ]
  },
  {
   "cell_type": "markdown",
   "id": "898f5d62",
   "metadata": {},
   "source": [
    "## 3. Tratamento\n",
    "1) Transforma tipos; remove inválidos"
   ]
  },
  {
   "cell_type": "code",
   "execution_count": 8,
   "id": "318e382b",
   "metadata": {},
   "outputs": [
    {
     "name": "stdout",
     "output_type": "stream",
     "text": [
      "Datas fora do escopo (2020-2025) removidas com sucesso.\n",
      "\n",
      "Informações após:\n",
      "<class 'pandas.core.frame.DataFrame'>\n",
      "Index: 68837 entries, 0 to 69520\n",
      "Data columns (total 30 columns):\n",
      " #   Column      Non-Null Count  Dtype          \n",
      "---  ------      --------------  -----          \n",
      " 0   predial1    64799 non-null  Int32          \n",
      " 1   queda_arr   68837 non-null  Int32          \n",
      " 2   data        68837 non-null  datetime64[ns] \n",
      " 3   feridos     68837 non-null  Int32          \n",
      " 4   feridos_gr  68837 non-null  Int32          \n",
      " 5   mortes      68837 non-null  Int32          \n",
      " 6   morte_post  68837 non-null  Int32          \n",
      " 7   fatais      68837 non-null  Int32          \n",
      " 8   auto        68837 non-null  Int32          \n",
      " 9   taxi        68837 non-null  Int32          \n",
      " 10  lotacao     68837 non-null  Int32          \n",
      " 11  onibus_urb  68837 non-null  Int32          \n",
      " 12  onibus_met  68837 non-null  Int32          \n",
      " 13  onibus_int  68837 non-null  Int32          \n",
      " 14  caminhao    68837 non-null  Int32          \n",
      " 15  moto        68837 non-null  Int32          \n",
      " 16  carroca     68837 non-null  Int32          \n",
      " 17  bicicleta   68837 non-null  Int32          \n",
      " 18  outro       68837 non-null  Int32          \n",
      " 19  cont_vit    68837 non-null  Int32          \n",
      " 20  ups         68837 non-null  Int32          \n",
      " 21  patinete    68837 non-null  Int32          \n",
      " 22  idacidente  68837 non-null  Int32          \n",
      " 23  log1        68837 non-null  string         \n",
      " 24  log2        18975 non-null  string         \n",
      " 25  tipo_acid   68837 non-null  category       \n",
      " 26  dia_sem     68837 non-null  category       \n",
      " 27  hora        68837 non-null  timedelta64[ns]\n",
      " 28  noite_dia   68837 non-null  category       \n",
      " 29  regiao      68837 non-null  category       \n",
      "dtypes: Int32(22), category(4), datetime64[ns](1), string(2), timedelta64[ns](1)\n",
      "memory usage: 10.1 MB\n",
      "   predial1  queda_arr       data  feridos  feridos_gr  mortes  morte_post  \\\n",
      "0         0          0 2020-10-17        1           0       0           0   \n",
      "1       598          0 2020-01-01        1           0       0           0   \n",
      "2      1271          0 2020-01-01        1           1       0           0   \n",
      "3      1901          0 2020-01-02        2           0       0           0   \n",
      "4      3302          0 2020-01-02        1           0       0           0   \n",
      "\n",
      "   fatais  auto  taxi  lotacao  onibus_urb  onibus_met  onibus_int  caminhao  \\\n",
      "0       0     3     0        0           0           0           0         0   \n",
      "1       0     0     1        0           0           0           0         0   \n",
      "2       0     1     0        0           0           0           0         0   \n",
      "3       0     0     0        0           0           0           0         0   \n",
      "4       0     1     0        0           0           0           0         0   \n",
      "\n",
      "   moto  carroca  bicicleta  outro  cont_vit  ups  patinete  idacidente  \\\n",
      "0     1        0          0      0         1    5         0      190816   \n",
      "1     1        0          0      0         1    5         0      669089   \n",
      "2     0        0          0      0         1    5         0      669097   \n",
      "3     1        0          0      0         1    5         0      669098   \n",
      "4     1        0          0      0         1    5         0      669099   \n",
      "\n",
      "                 log1              log2      tipo_acid       dia_sem  \\\n",
      "0    R MARCOS MOREIRA  R GASTON ENGLERT   ABALROAMENTO        SÁBADO   \n",
      "1  AV BENTO GONCALVES              <NA>   ABALROAMENTO  QUARTA-FEIRA   \n",
      "2    AV INDEPENDENCIA              <NA>  ATROPELAMENTO  QUARTA-FEIRA   \n",
      "3    AV EDUARDO PRADO              <NA>  ATROPELAMENTO  QUINTA-FEIRA   \n",
      "4      AV TERESOPOLIS              <NA>   ABALROAMENTO  QUINTA-FEIRA   \n",
      "\n",
      "             hora noite_dia regiao  \n",
      "0 0 days 19:00:00     NOITE  NORTE  \n",
      "1 0 days 03:00:00     NOITE  LESTE  \n",
      "2 0 days 23:00:00     NOITE  LESTE  \n",
      "3 0 days 00:05:00     NOITE    SUL  \n",
      "4 0 days 09:00:00       DIA    SUL  \n"
     ]
    }
   ],
   "source": [
    "# Converte 'data' para datetime\n",
    "df['data'] = pd.to_datetime(df['data'], errors='coerce')\n",
    "\n",
    "# Remove inválidos 'data', 'hora', 'log1', 'regiao'\n",
    "df = df.dropna(subset=['data', 'hora', 'log1', 'regiao'])\n",
    "\n",
    "# Remove data fora do escopo (2020-2025)\n",
    "df = df[(df['data'] >= '2020-01-01') & (df['data'] <= '2025-04-01')]\n",
    "print(\"Datas fora do escopo (2020-2025) removidas com sucesso.\")\n",
    "\n",
    "# Remove chaves duplicadas\n",
    "df = df.drop_duplicates(subset='idacidente')\n",
    "\n",
    "# Transforma colunas tipos de colunas em Categoria\n",
    "col_cat = ['regiao', 'tipo_acid', 'dia_sem', 'noite_dia']\n",
    "df[col_cat] = df[col_cat].astype('category')\n",
    "\n",
    "# Transforma colunas tipos de colunas Inteiro\n",
    "col_int = [c for c in [\n",
    "  'queda_arr', 'feridos', 'feridos_gr', 'mortes',\n",
    "  'morte_post', 'fatais', 'auto', 'taxi', 'lotacao', 'onibus_urb',\n",
    "  'onibus_met', 'onibus_int', 'caminhao', 'moto', 'carroca', 'bicicleta',\n",
    "  'outro', 'cont_vit', 'ups', 'patinete', 'idacidente', 'predial1'\n",
    "  ] if c in df.columns]\n",
    "for c in col_int:\n",
    "    df[c] = pd.to_numeric(df[c], errors='coerce').astype('Int32')\n",
    "\n",
    "# Transforma colunas tipos de colunas em Float\n",
    "col_float = [c for c in ['longitude', 'latitude'] if c in df.columns]\n",
    "for c in col_float:\n",
    "    df[c] = pd.to_numeric(df[c], errors='coerce').astype('float32')\n",
    "\n",
    "# Transforma colunas tipos de colunas em String\n",
    "col_str = [c for c in ['log1', 'log2'] if c in df.columns]\n",
    "for c in col_str:\n",
    "    df[c] = df[c].astype('string')\n",
    "\n",
    "# Transforma coluna 'hora' para timedelta\n",
    "df['hora'] = pd.to_timedelta(df['hora'], errors='coerce')\n",
    "\n",
    "     \n",
    "print(\"\\nInformações após:\")\n",
    "df.info()\n",
    "df.describe(include='all')\n",
    "print(df.head())"
   ]
  },
  {
   "cell_type": "markdown",
   "id": "c8f9a45a",
   "metadata": {},
   "source": [
    "2) Cria novas variáveis e DataFrames necessários"
   ]
  },
  {
   "cell_type": "code",
   "execution_count": 9,
   "id": "f396d212",
   "metadata": {},
   "outputs": [],
   "source": [
    "# Cria coluna 'hora_int'\n",
    "df['hora_int'] = df['hora'].dt.components['hours']\n",
    "\n",
    "# Cria coluna 'data_hora'\n",
    "df['data_hora'] = df['data']+ df['hora']\n",
    "\n",
    "# Cria df_20_24 (teste) e df_2025 (validacao)\n",
    "df_20_24 = df[(df[\"data\"].dt.year >= 2020) & (df[\"data\"].dt.year <= 2024)].copy()\n",
    "df_2025 = df[(df['data'].dt.year == 2025)].copy()\n",
    "\n"
   ]
  },
  {
   "cell_type": "markdown",
   "id": "eb29aec7",
   "metadata": {},
   "source": [
    "3) Salva DataFrames tratatos"
   ]
  },
  {
   "cell_type": "code",
   "execution_count": 12,
   "id": "fa33c314",
   "metadata": {},
   "outputs": [],
   "source": [
    "# Salva dataframe tratado\n",
    "df.to_parquet(\"../dados/intermediarios/acidentes_tratado.parquet\", index=False, engine=\"pyarrow\")\n",
    "df_20_24.to_parquet(\"../dados/intermediarios/df_20_24.parquet\", index=False, engine=\"pyarrow\")\n",
    "df_2025.to_parquet(\"../dados/intermediarios/df_2025.parquet\", index=False, engine=\"pyarrow\")"
   ]
  },
  {
   "cell_type": "markdown",
   "id": "baeb8b98",
   "metadata": {},
   "source": [
    "## 4) Análise Exploratória Inicial\n"
   ]
  },
  {
   "cell_type": "markdown",
   "id": "cb271c42",
   "metadata": {},
   "source": [
    "1) Distribuição temporal"
   ]
  },
  {
   "cell_type": "code",
   "execution_count": 10,
   "id": "d7aeeeca",
   "metadata": {},
   "outputs": [
    {
     "data": {
      "image/png": "[encoded data removed]",
      "text/plain": [
       "<Figure size 800x550 with 1 Axes>"
      ]
     },
     "metadata": {},
     "output_type": "display_data"
    }
   ],
   "source": [
    "df_20_24[\"ano\"] = df_20_24[\"data\"].dt.year\n",
    "sns.countplot(x=\"ano\", data=df_20_24)\n",
    "plt.title(\"Número de acidentes por ano (2020–2024)\")\n",
    "plt.show()\n"
   ]
  },
  {
   "cell_type": "markdown",
   "id": "16bc0d77",
   "metadata": {},
   "source": [
    "2) Acidentes mais comuns"
   ]
  },
  {
   "cell_type": "code",
   "execution_count": 11,
   "id": "e8761979",
   "metadata": {},
   "outputs": [
    {
     "data": {
      "image/png": "[encoded data removed]",
      "text/plain": [
       "<Figure size 800x550 with 1 Axes>"
      ]
     },
     "metadata": {},
     "output_type": "display_data"
    }
   ],
   "source": [
    "df_20_24[\"tipo_acid\"].value_counts().head(10).plot(kind=\"bar\")\n",
    "plt.title(\"Top 10 tipos de acidente\")\n",
    "plt.show()"
   ]
  },
  {
   "cell_type": "markdown",
   "id": "246141c0",
   "metadata": {},
   "source": [
    "3) "
   ]
  },
  {
   "cell_type": "code",
   "execution_count": null,
   "id": "e72c5e1f",
   "metadata": {},
   "outputs": [],
   "source": [
    "sns.histplot(df_20_24[\"fatais\"], bins=5, discrete=True)\n",
    "plt.title(\"Distribuição de vítimas fatais\")\n",
    "plt.show()\n"
   ]
  }
 ],
 "metadata": {
  "kernelspec": {
   "display_name": ".venv",
   "language": "python",
   "name": "python3"
  },
  "language_info": {
   "codemirror_mode": {
    "name": "ipython",
    "version": 3
   },
   "file_extension": ".py",
   "mimetype": "text/x-python",
   "name": "python",
   "nbconvert_exporter": "python",
   "pygments_lexer": "ipython3",
   "version": "3.12.11"
  }
 },
 "nbformat": 4,
 "nbformat_minor": 5
}
