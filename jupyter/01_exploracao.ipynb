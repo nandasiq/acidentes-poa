{
 "cells": [
  {
   "cell_type": "markdown",
   "id": "62854e67",
   "metadata": {},
   "source": [
    "# 01 - Exploração e Limpeza de Dados\n",
    "Autora: Fernanda Baptista de Siqueira  \n",
    "Curso: MBA em Tecnologia para Negócios – AI, Data Science e Big Data  \n",
    "Tema: Análise de Acidentes de Trânsito em Porto Alegre (2020–2024)\n",
    "\n",
    "---\n",
    "\n",
    "## 1. Importação e Configuração\n",
    "Carregamento das bibliotecas e dataset bruto.\n"
   ]
  },
  {
   "cell_type": "code",
   "execution_count": null,
   "id": "97e106da",
   "metadata": {},
   "outputs": [],
   "source": [
    "# Bibliotecas principais\n",
    "import pandas as pd\n",
    "import numpy as np\n",
    "import matplotlib.pyplot as plt\n",
    "import seaborn as sns\n",
    "\n",
    "# Configurações visuais\n",
    "plt.style.use(\"seaborn-v0_8\")\n",
    "sns.set_theme(palette=\"deep\")\n"
   ]
  },
  {
   "cell_type": "markdown",
   "id": "7bf48ec7",
   "metadata": {},
   "source": [
    "## 2. Leitura e Schema Inicial\n",
    "Carregar o arquivo `acidentes.csv`, inspecionar linhas/colunas e padronizar nomes em `snake_case` (McKinney, 2022).\n"
   ]
  },
  {
   "cell_type": "code",
   "execution_count": null,
   "id": "67a3b8ee",
   "metadata": {},
   "outputs": [],
   "source": [
    "# Leitura\n",
    "df = pd.read_csv(\"acidentes.csv\", sep=\";\", low_memory=False)\n",
    "\n",
    "# Padroniza nomes de colunas\n",
    "df.columns = df.columns.str.strip().str.lower().str.replace(\" \", \"_\")\n",
    "\n",
    "# Visualiza esquema inicial\n",
    "df.info()\n",
    "df.head(3)\n"
   ]
  }
 ],
 "metadata": {
  "kernelspec": {
   "display_name": ".venv",
   "language": "python",
   "name": "python3"
  },
  "language_info": {
   "name": "python",
   "version": "3.12.11"
  }
 },
 "nbformat": 4,
 "nbformat_minor": 5
}
