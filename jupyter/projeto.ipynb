{
 "cells": [
  {
   "cell_type": "markdown",
   "id": "592b897d",
   "metadata": {},
   "source": [
    "1) Carrega bibliotecas"
   ]
  },
  {
   "cell_type": "code",
   "execution_count": 1,
   "id": "d73a998f",
   "metadata": {},
   "outputs": [],
   "source": [
    "import pandas as pd\n",
    "import numpy as np\n",
    "import matplotlib.pyplot as plt\n",
    "import seaborn as sns"
   ]
  },
  {
   "cell_type": "markdown",
   "id": "c7ee004e",
   "metadata": {},
   "source": [
    "2) Carrega dataset"
   ]
  },
  {
   "cell_type": "code",
   "execution_count": 2,
   "id": "cabf5cf9",
   "metadata": {},
   "outputs": [
    {
     "name": "stdout",
     "output_type": "stream",
     "text": [
      "CSV original lido com sucesso!\n"
     ]
    }
   ],
   "source": [
    "caminho_dados = 'dados/acidentes.csv'\n",
    "\n",
    "try:\n",
    "    df = pd.read_csv(caminho_dados, sep=';', encoding='utf-8')\n",
    "    print(\"CSV original lido com sucesso!\")\n",
    "except FileNotFoundError:\n",
    "    print(f\"Erro: Arquivo '{caminho_dados}' não encontrado. Verifique o caminho.\")\n",
    "except Exception as e:\n",
    "    print(f\"Ocorreu um erro: {e}\")"
   ]
  },
  {
   "cell_type": "markdown",
   "id": "898e5539",
   "metadata": {},
   "source": [
    "3) Entende dataframe"
   ]
  },
  {
   "cell_type": "code",
   "execution_count": 3,
   "id": "ff7d4e6b",
   "metadata": {},
   "outputs": [
    {
     "name": "stdout",
     "output_type": "stream",
     "text": [
      "\n",
      "Cinco primeiras linhas:\n",
      "         data_extracao  predial1  queda_arr                 data  feridos  \\\n",
      "0  2025-06-01 01:33:13       0.0        0.0  2020-10-17 00:00:00        1   \n",
      "1  2025-06-01 01:33:13     598.0        0.0  2020-01-01 00:00:00        1   \n",
      "2  2025-06-01 01:33:13    1271.0        0.0  2020-01-01 00:00:00        1   \n",
      "3  2025-06-01 01:33:13    1901.0        0.0  2020-01-02 00:00:00        2   \n",
      "4  2025-06-01 01:33:13    3302.0        0.0  2020-01-02 00:00:00        1   \n",
      "\n",
      "   feridos_gr  mortes  morte_post  fatais  auto  ...  longitude   latitude  \\\n",
      "0           0       0           0       0     3  ...   0.000000   0.000000   \n",
      "1           0       0           0       0     0  ...        NaN        NaN   \n",
      "2           1       0           0       0     1  ...        NaN        NaN   \n",
      "3           0       0           0       0     0  ...        NaN        NaN   \n",
      "4           0       0           0       0     1  ... -51.211535 -30.081535   \n",
      "\n",
      "                 log1              log2      tipo_acid       dia_sem  \\\n",
      "0    R MARCOS MOREIRA  R GASTON ENGLERT   ABALROAMENTO        SÁBADO   \n",
      "1  AV BENTO GONCALVES               NaN   ABALROAMENTO  QUARTA-FEIRA   \n",
      "2    AV INDEPENDENCIA               NaN  ATROPELAMENTO  QUARTA-FEIRA   \n",
      "3    AV EDUARDO PRADO               NaN  ATROPELAMENTO  QUINTA-FEIRA   \n",
      "4      AV TERESOPOLIS               NaN   ABALROAMENTO  QUINTA-FEIRA   \n",
      "\n",
      "               hora  noite_dia  regiao  consorcio  \n",
      "0  19:00:00.0000000      NOITE   NORTE        NaN  \n",
      "1  03:00:00.0000000      NOITE   LESTE        NaN  \n",
      "2  23:00:00.0000000      NOITE   LESTE        NaN  \n",
      "3  00:05:00.0000000      NOITE     SUL        NaN  \n",
      "4  09:00:00.0000000        DIA     SUL        NaN  \n",
      "\n",
      "[5 rows x 34 columns]\n",
      "\n",
      "Dimensões do Dataset (linhas, colunas)\n",
      "(69521, 34)\n",
      "\n",
      "Informações gerais do DataFrame:\n",
      "<class 'pandas.core.frame.DataFrame'>\n",
      "RangeIndex: 69521 entries, 0 to 69520\n",
      "Data columns (total 34 columns):\n",
      " #   Column         Non-Null Count  Dtype  \n",
      "---  ------         --------------  -----  \n",
      " 0   data_extracao  69521 non-null  object \n",
      " 1   predial1       65442 non-null  float64\n",
      " 2   queda_arr      69521 non-null  float64\n",
      " 3   data           69521 non-null  object \n",
      " 4   feridos        69521 non-null  int64  \n",
      " 5   feridos_gr     69521 non-null  int64  \n",
      " 6   mortes         69521 non-null  int64  \n",
      " 7   morte_post     69521 non-null  int64  \n",
      " 8   fatais         69521 non-null  int64  \n",
      " 9   auto           69521 non-null  int64  \n",
      " 10  taxi           69521 non-null  int64  \n",
      " 11  lotacao        69521 non-null  int64  \n",
      " 12  onibus_urb     69521 non-null  int64  \n",
      " 13  onibus_met     69521 non-null  int64  \n",
      " 14  onibus_int     69521 non-null  int64  \n",
      " 15  caminhao       69521 non-null  int64  \n",
      " 16  moto           69521 non-null  int64  \n",
      " 17  carroca        69521 non-null  int64  \n",
      " 18  bicicleta      69521 non-null  int64  \n",
      " 19  outro          69521 non-null  int64  \n",
      " 20  cont_vit       69521 non-null  int64  \n",
      " 21  ups            69521 non-null  int64  \n",
      " 22  patinete       69521 non-null  int64  \n",
      " 23  idacidente     69521 non-null  int64  \n",
      " 24  longitude      59218 non-null  float64\n",
      " 25  latitude       59218 non-null  float64\n",
      " 26  log1           69471 non-null  object \n",
      " 27  log2           19172 non-null  object \n",
      " 28  tipo_acid      69521 non-null  object \n",
      " 29  dia_sem        69521 non-null  object \n",
      " 30  hora           68968 non-null  object \n",
      " 31  noite_dia      69521 non-null  object \n",
      " 32  regiao         69520 non-null  object \n",
      " 33  consorcio      2207 non-null   object \n",
      "dtypes: float64(4), int64(20), object(10)\n",
      "memory usage: 18.0+ MB\n",
      "\n",
      "Contagem de Valores Ausentes por Coluna\n",
      "data_extracao        0\n",
      "predial1          4079\n",
      "queda_arr            0\n",
      "data                 0\n",
      "feridos              0\n",
      "feridos_gr           0\n",
      "mortes               0\n",
      "morte_post           0\n",
      "fatais               0\n",
      "auto                 0\n",
      "taxi                 0\n",
      "lotacao              0\n",
      "onibus_urb           0\n",
      "onibus_met           0\n",
      "onibus_int           0\n",
      "caminhao             0\n",
      "moto                 0\n",
      "carroca              0\n",
      "bicicleta            0\n",
      "outro                0\n",
      "cont_vit             0\n",
      "ups                  0\n",
      "patinete             0\n",
      "idacidente           0\n",
      "longitude        10303\n",
      "latitude         10303\n",
      "log1                50\n",
      "log2             50349\n",
      "tipo_acid            0\n",
      "dia_sem              0\n",
      "hora               553\n",
      "noite_dia            0\n",
      "regiao               1\n",
      "consorcio        67314\n",
      "dtype: int64\n"
     ]
    }
   ],
   "source": [
    "# Lista as cinco primeira linhas\n",
    "print(\"\\nCinco primeiras linhas:\")\n",
    "print(df.head())\n",
    "\n",
    "# Mostra o número de linhas e colunas\n",
    "print(\"\\nDimensões do Dataset (linhas, colunas)\")\n",
    "print(df.shape)\n",
    "\n",
    "# Mostra tipo de dados, valores não nulos\n",
    "print(\"\\nInformações gerais do DataFrame:\")\n",
    "df.info()\n",
    "\n",
    "# Conta valores ausentes por coluna\n",
    "print(\"\\nContagem de Valores Ausentes por Coluna\")\n",
    "print(df.isnull().sum())\n"
   ]
  },
  {
   "cell_type": "markdown",
   "id": "3ad65032",
   "metadata": {},
   "source": [
    "4) Limpa nomes colunas"
   ]
  },
  {
   "cell_type": "code",
   "execution_count": 19,
   "id": "37d0e0e0",
   "metadata": {},
   "outputs": [
    {
     "name": "stdout",
     "output_type": "stream",
     "text": [
      "Index(['data_extracao', 'predial1', 'queda_arr', 'data', 'feridos',\n",
      "       'feridos_gr', 'mortes', 'morte_post', 'fatais', 'auto', 'taxi',\n",
      "       'lotacao', 'onibus_urb', 'onibus_met', 'onibus_int', 'caminhao', 'moto',\n",
      "       'carroca', 'bicicleta', 'outro', 'cont_vit', 'ups', 'patinete',\n",
      "       'idacidente', 'longitude', 'latitude', 'log1', 'log2', 'tipo_acid',\n",
      "       'dia_sem', 'hora', 'noite_dia', 'regiao', 'consorcio'],\n",
      "      dtype='object')\n"
     ]
    }
   ],
   "source": [
    "# Remove espaços em branco no início/fim dos nomes das colunas (boa prática)\n",
    "df.columns = df.columns.str.strip()\n",
    "\n",
    "# Lista nome de colunas\n",
    "print(df.columns)"
   ]
  },
  {
   "cell_type": "markdown",
   "id": "90fbf9f4",
   "metadata": {},
   "source": [
    "5) Remove colunas 'data_extracao' e 'consorcio'"
   ]
  },
  {
   "cell_type": "code",
   "execution_count": 4,
   "id": "8517a2df",
   "metadata": {},
   "outputs": [
    {
     "name": "stdout",
     "output_type": "stream",
     "text": [
      "Index(['predial1', 'queda_arr', 'data', 'feridos', 'feridos_gr', 'mortes',\n",
      "       'morte_post', 'fatais', 'auto', 'taxi', 'lotacao', 'onibus_urb',\n",
      "       'onibus_met', 'onibus_int', 'caminhao', 'moto', 'carroca', 'bicicleta',\n",
      "       'outro', 'cont_vit', 'ups', 'patinete', 'idacidente', 'longitude',\n",
      "       'latitude', 'log1', 'log2', 'tipo_acid', 'dia_sem', 'hora', 'noite_dia',\n",
      "       'regiao'],\n",
      "      dtype='object')\n"
     ]
    }
   ],
   "source": [
    "# Remove colunas 'data_extracao' e 'consorcio'\n",
    "remover = ['data_extracao', 'consorcio']\n",
    "existe = [col for col in remover if col in df.columns]\n",
    "\n",
    "if existe:\n",
    "    df = df.drop(columns=existe)\n",
    "\n",
    "else:\n",
    "    print(\"Nenhuma das colunas presente\")\n",
    "\n",
    "# Lista nome de colunas depois remoção\n",
    "print(df.columns)"
   ]
  },
  {
   "cell_type": "markdown",
   "id": "5d72797b",
   "metadata": {},
   "source": [
    "6) Transforma tipos e remove inválidos"
   ]
  },
  {
   "cell_type": "code",
   "execution_count": 7,
   "id": "eca55542",
   "metadata": {},
   "outputs": [
    {
     "name": "stdout",
     "output_type": "stream",
     "text": [
      "\n",
      "Informações gerais do DataFrame:\n",
      "<class 'pandas.core.frame.DataFrame'>\n",
      "RangeIndex: 69521 entries, 0 to 69520\n",
      "Data columns (total 33 columns):\n",
      " #   Column         Non-Null Count  Dtype         \n",
      "---  ------         --------------  -----         \n",
      " 0   predial1       65442 non-null  float64       \n",
      " 1   queda_arr      69521 non-null  float64       \n",
      " 2   data           69520 non-null  datetime64[ns]\n",
      " 3   feridos        69521 non-null  int64         \n",
      " 4   feridos_gr     69521 non-null  int64         \n",
      " 5   mortes         69521 non-null  int64         \n",
      " 6   morte_post     69521 non-null  int64         \n",
      " 7   fatais         69521 non-null  int64         \n",
      " 8   auto           69521 non-null  int64         \n",
      " 9   taxi           69521 non-null  int64         \n",
      " 10  lotacao        69521 non-null  int64         \n",
      " 11  onibus_urb     69521 non-null  int64         \n",
      " 12  onibus_met     69521 non-null  int64         \n",
      " 13  onibus_int     69521 non-null  int64         \n",
      " 14  caminhao       69521 non-null  int64         \n",
      " 15  moto           69521 non-null  int64         \n",
      " 16  carroca        69521 non-null  int64         \n",
      " 17  bicicleta      69521 non-null  int64         \n",
      " 18  outro          69521 non-null  int64         \n",
      " 19  cont_vit       69521 non-null  int64         \n",
      " 20  ups            69521 non-null  int64         \n",
      " 21  patinete       69521 non-null  int64         \n",
      " 22  idacidente     69521 non-null  int64         \n",
      " 23  longitude      59218 non-null  float64       \n",
      " 24  latitude       59218 non-null  float64       \n",
      " 25  log1           69471 non-null  object        \n",
      " 26  log2           19172 non-null  object        \n",
      " 27  tipo_acid      69521 non-null  object        \n",
      " 28  dia_sem        69521 non-null  object        \n",
      " 29  hora           68968 non-null  float64       \n",
      " 30  noite_dia      69521 non-null  object        \n",
      " 31  regiao         69520 non-null  object        \n",
      " 32  hora_acidente  0 non-null      float64       \n",
      "dtypes: datetime64[ns](1), float64(6), int64(20), object(6)\n",
      "memory usage: 17.5+ MB\n",
      "Coluna 'data' convertida com sucesso.\n",
      "Coluna 'hora' convertida com sucesso.\n",
      "\n",
      "Informações após:\n",
      "<class 'pandas.core.frame.DataFrame'>\n",
      "RangeIndex: 69521 entries, 0 to 69520\n",
      "Data columns (total 33 columns):\n",
      " #   Column         Non-Null Count  Dtype         \n",
      "---  ------         --------------  -----         \n",
      " 0   predial1       65442 non-null  float64       \n",
      " 1   queda_arr      69521 non-null  float64       \n",
      " 2   data           69520 non-null  datetime64[ns]\n",
      " 3   feridos        69521 non-null  int64         \n",
      " 4   feridos_gr     69521 non-null  int64         \n",
      " 5   mortes         69521 non-null  int64         \n",
      " 6   morte_post     69521 non-null  int64         \n",
      " 7   fatais         69521 non-null  int64         \n",
      " 8   auto           69521 non-null  int64         \n",
      " 9   taxi           69521 non-null  int64         \n",
      " 10  lotacao        69521 non-null  int64         \n",
      " 11  onibus_urb     69521 non-null  int64         \n",
      " 12  onibus_met     69521 non-null  int64         \n",
      " 13  onibus_int     69521 non-null  int64         \n",
      " 14  caminhao       69521 non-null  int64         \n",
      " 15  moto           69521 non-null  int64         \n",
      " 16  carroca        69521 non-null  int64         \n",
      " 17  bicicleta      69521 non-null  int64         \n",
      " 18  outro          69521 non-null  int64         \n",
      " 19  cont_vit       69521 non-null  int64         \n",
      " 20  ups            69521 non-null  int64         \n",
      " 21  patinete       69521 non-null  int64         \n",
      " 22  idacidente     69521 non-null  int64         \n",
      " 23  longitude      59218 non-null  float64       \n",
      " 24  latitude       59218 non-null  float64       \n",
      " 25  log1           69471 non-null  object        \n",
      " 26  log2           19172 non-null  object        \n",
      " 27  tipo_acid      69521 non-null  object        \n",
      " 28  dia_sem        69521 non-null  object        \n",
      " 29  hora           68968 non-null  float64       \n",
      " 30  noite_dia      69521 non-null  object        \n",
      " 31  regiao         69520 non-null  object        \n",
      " 32  hora_acidente  0 non-null      Int64         \n",
      "dtypes: Int64(1), datetime64[ns](1), float64(5), int64(20), object(6)\n",
      "memory usage: 17.6+ MB\n"
     ]
    }
   ],
   "source": [
    "# Mostra tipo de dados, valores não nulos\n",
    "print(\"\\nInformações gerais do DataFrame:\")\n",
    "df.info()\n",
    "\n",
    "# Converte 'data' para datetime\n",
    "df['data'] = pd.to_datetime(df['data'], errors='coerce')\n",
    "print(\"Coluna 'data' convertida com sucesso.\")\n",
    "\n",
    "# Cria coluna 'hora_acidente' como Int64 (permite NaN )\n",
    "df['hora_acidente'] = pd.to_datetime(df['hora'], format='%H:%M:%S.%f', errors='coerce').dt.hour.astype('Int64')\n",
    "print(\"Coluna 'hora' convertida com sucesso.\")\n",
    "\n",
    "print(\"\\nInformações após:\")\n",
    "df.info()"
   ]
  }
 ],
 "metadata": {
  "kernelspec": {
   "display_name": "Python 3",
   "language": "python",
   "name": "python3"
  },
  "language_info": {
   "codemirror_mode": {
    "name": "ipython",
    "version": 3
   },
   "file_extension": ".py",
   "mimetype": "text/x-python",
   "name": "python",
   "nbconvert_exporter": "python",
   "pygments_lexer": "ipython3",
   "version": "3.12.1"
  }
 },
 "nbformat": 4,
 "nbformat_minor": 5
}
