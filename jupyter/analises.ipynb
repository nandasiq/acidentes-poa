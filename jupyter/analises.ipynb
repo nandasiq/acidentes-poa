{
 "cells": [
  {
   "cell_type": "code",
   "execution_count": null,
   "id": "d3a7eec5",
   "metadata": {},
   "outputs": [],
   "source": [
    "import pandas as pd\n"
   ]
  }
 ],
 "metadata": {
  "kernelspec": {
   "display_name": "Python 3",
   "language": "python",
   "name": "python3"
  },
  "language_info": {
   "name": "python",
   "version": "3.12.1"
  }
 },
 "nbformat": 4,
 "nbformat_minor": 5
}
