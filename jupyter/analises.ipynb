{
 "cells": [
  {
   "cell_type": "code",
   "execution_count": null,
   "id": "d3a7eec5",
   "metadata": {},
   "outputs": [
    {
     "name": "stdout",
     "output_type": "stream",
     "text": [
      "CSV original lido com sucesso! Primeiras 5 linhas:\n",
      "         data_extracao  predial1  queda_arr                 data  feridos  \\\n",
      "0  2025-06-01 01:33:13       0.0        0.0  2020-10-17 00:00:00        1   \n",
      "1  2025-06-01 01:33:13     598.0        0.0  2020-01-01 00:00:00        1   \n",
      "2  2025-06-01 01:33:13    1271.0        0.0  2020-01-01 00:00:00        1   \n",
      "3  2025-06-01 01:33:13    1901.0        0.0  2020-01-02 00:00:00        2   \n",
      "4  2025-06-01 01:33:13    3302.0        0.0  2020-01-02 00:00:00        1   \n",
      "\n",
      "   feridos_gr  mortes  morte_post  fatais  auto  ...  longitude   latitude  \\\n",
      "0           0       0           0       0     3  ...   0.000000   0.000000   \n",
      "1           0       0           0       0     0  ...        NaN        NaN   \n",
      "2           1       0           0       0     1  ...        NaN        NaN   \n",
      "3           0       0           0       0     0  ...        NaN        NaN   \n",
      "4           0       0           0       0     1  ... -51.211535 -30.081535   \n",
      "\n",
      "                 log1              log2      tipo_acid       dia_sem  \\\n",
      "0    R MARCOS MOREIRA  R GASTON ENGLERT   ABALROAMENTO        SÁBADO   \n",
      "1  AV BENTO GONCALVES               NaN   ABALROAMENTO  QUARTA-FEIRA   \n",
      "2    AV INDEPENDENCIA               NaN  ATROPELAMENTO  QUARTA-FEIRA   \n",
      "3    AV EDUARDO PRADO               NaN  ATROPELAMENTO  QUINTA-FEIRA   \n",
      "4      AV TERESOPOLIS               NaN   ABALROAMENTO  QUINTA-FEIRA   \n",
      "\n",
      "               hora  noite_dia  regiao  consorcio  \n",
      "0  19:00:00.0000000      NOITE   NORTE        NaN  \n",
      "1  03:00:00.0000000      NOITE   LESTE        NaN  \n",
      "2  23:00:00.0000000      NOITE   LESTE        NaN  \n",
      "3  00:05:00.0000000      NOITE     SUL        NaN  \n",
      "4  09:00:00.0000000        DIA     SUL        NaN  \n",
      "\n",
      "[5 rows x 34 columns]\n",
      "\n",
      "Informações do DataFrame original:\n",
      "<class 'pandas.core.frame.DataFrame'>\n",
      "RangeIndex: 69521 entries, 0 to 69520\n",
      "Data columns (total 34 columns):\n",
      " #   Column         Non-Null Count  Dtype  \n",
      "---  ------         --------------  -----  \n",
      " 0   data_extracao  69521 non-null  object \n",
      " 1   predial1       65442 non-null  float64\n",
      " 2   queda_arr      69521 non-null  float64\n",
      " 3   data           69521 non-null  object \n",
      " 4   feridos        69521 non-null  int64  \n",
      " 5   feridos_gr     69521 non-null  int64  \n",
      " 6   mortes         69521 non-null  int64  \n",
      " 7   morte_post     69521 non-null  int64  \n",
      " 8   fatais         69521 non-null  int64  \n",
      " 9   auto           69521 non-null  int64  \n",
      " 10  taxi           69521 non-null  int64  \n",
      " 11  lotacao        69521 non-null  int64  \n",
      " 12  onibus_urb     69521 non-null  int64  \n",
      " 13  onibus_met     69521 non-null  int64  \n",
      " 14  onibus_int     69521 non-null  int64  \n",
      " 15  caminhao       69521 non-null  int64  \n",
      " 16  moto           69521 non-null  int64  \n",
      " 17  carroca        69521 non-null  int64  \n",
      " 18  bicicleta      69521 non-null  int64  \n",
      " 19  outro          69521 non-null  int64  \n",
      " 20  cont_vit       69521 non-null  int64  \n",
      " 21  ups            69521 non-null  int64  \n",
      " 22  patinete       69521 non-null  int64  \n",
      " 23  idacidente     69521 non-null  int64  \n",
      " 24  longitude      59218 non-null  float64\n",
      " 25  latitude       59218 non-null  float64\n",
      " 26  log1           69471 non-null  object \n",
      " 27  log2           19172 non-null  object \n",
      " 28  tipo_acid      69521 non-null  object \n",
      " 29  dia_sem        69521 non-null  object \n",
      " 30  hora           68968 non-null  object \n",
      " 31  noite_dia      69521 non-null  object \n",
      " 32  regiao         69520 non-null  object \n",
      " 33  consorcio      2207 non-null   object \n",
      "dtypes: float64(4), int64(20), object(10)\n",
      "memory usage: 18.0+ MB\n",
      "\n",
      "Arquivo ajustado salvo como 'dados/acidentes-virgula.csv' com separador ','.\n",
      "Agora, tente importar este novo arquivo para o Looker.\n"
     ]
    }
   ],
   "source": [
    "import pandas as pd\n",
    "\n",
    "caminho_dados = 'dados/acidentes.csv'\n",
    "separador_original = ';'\n",
    "codificacao = 'utf-8'\n",
    "\n",
    "caminho_dados_virgula = 'dados/acidentes-virgula.csv'\n",
    "separador_virgula = ','\n",
    "\n",
    "try:\n",
    "    # 1. Carregar o CSV original usando o separador correto (;)\n",
    "    df = pd.read_csv(caminho_dados, sep=separador_original, encoding=codificacao)\n",
    "\n",
    "    print(\"CSV original lido com sucesso! Primeiras 5 linhas:\")\n",
    "    print(df.head())\n",
    "    print(\"\\nInformações do DataFrame original:\")\n",
    "    df.info()\n",
    "\n",
    "    # 2. Salvar o DataFrame em um novo arquivo CSV usando a vírgula (,) como separador\n",
    "    # index=False evita que o Pandas grave o índice do DataFrame como uma nova coluna no CSV\n",
    "    df.to_csv(caminho_dados_virgula, sep=separador_virgula, encoding=codificacao, index=False)\n",
    "\n",
    "    print(f\"\\nArquivo ajustado salvo como '{caminho_dados_virgula}' com separador '{separador_virgula}'.\")\n",
    "\n",
    "\n",
    "except FileNotFoundError:\n",
    "    print(f\"Erro: Arquivo '{caminho_dados}' não encontrado. Verifique o caminho.\")\n",
    "except Exception as e:\n",
    "    print(f\"Ocorreu um erro: {e}\")"
   ]
  },
  {
   "cell_type": "code",
   "execution_count": 19,
   "id": "384dc495",
   "metadata": {},
   "outputs": [
    {
     "name": "stdout",
     "output_type": "stream",
     "text": [
      "         data_extracao  predial1  queda_arr                 data  feridos  \\\n",
      "0  2025-06-01 01:33:13       0.0        0.0  2020-10-17 00:00:00        1   \n",
      "1  2025-06-01 01:33:13     598.0        0.0  2020-01-01 00:00:00        1   \n",
      "2  2025-06-01 01:33:13    1271.0        0.0  2020-01-01 00:00:00        1   \n",
      "3  2025-06-01 01:33:13    1901.0        0.0  2020-01-02 00:00:00        2   \n",
      "4  2025-06-01 01:33:13    3302.0        0.0  2020-01-02 00:00:00        1   \n",
      "\n",
      "   feridos_gr  mortes  morte_post  fatais  auto  ...  longitude   latitude  \\\n",
      "0           0       0           0       0     3  ...   0.000000   0.000000   \n",
      "1           0       0           0       0     0  ...        NaN        NaN   \n",
      "2           1       0           0       0     1  ...        NaN        NaN   \n",
      "3           0       0           0       0     0  ...        NaN        NaN   \n",
      "4           0       0           0       0     1  ... -51.211535 -30.081535   \n",
      "\n",
      "                 log1              log2      tipo_acid       dia_sem  \\\n",
      "0    R MARCOS MOREIRA  R GASTON ENGLERT   ABALROAMENTO        SÁBADO   \n",
      "1  AV BENTO GONCALVES               NaN   ABALROAMENTO  QUARTA-FEIRA   \n",
      "2    AV INDEPENDENCIA               NaN  ATROPELAMENTO  QUARTA-FEIRA   \n",
      "3    AV EDUARDO PRADO               NaN  ATROPELAMENTO  QUINTA-FEIRA   \n",
      "4      AV TERESOPOLIS               NaN   ABALROAMENTO  QUINTA-FEIRA   \n",
      "\n",
      "               hora  noite_dia  regiao  consorcio  \n",
      "0  19:00:00.0000000      NOITE   NORTE        NaN  \n",
      "1  03:00:00.0000000      NOITE   LESTE        NaN  \n",
      "2  23:00:00.0000000      NOITE   LESTE        NaN  \n",
      "3  00:05:00.0000000      NOITE     SUL        NaN  \n",
      "4  09:00:00.0000000        DIA     SUL        NaN  \n",
      "\n",
      "[5 rows x 34 columns]\n"
     ]
    },
    {
     "data": {
      "text/plain": [
       "Index(['data_extracao', 'predial1', 'queda_arr', 'data', 'feridos',\n",
       "       'feridos_gr', 'mortes', 'morte_post', 'fatais', 'auto', 'taxi',\n",
       "       'lotacao', 'onibus_urb', 'onibus_met', 'onibus_int', 'caminhao', 'moto',\n",
       "       'carroca', 'bicicleta', 'outro', 'cont_vit', 'ups', 'patinete',\n",
       "       'idacidente', 'longitude', 'latitude', 'log1', 'log2', 'tipo_acid',\n",
       "       'dia_sem', 'hora', 'noite_dia', 'regiao', 'consorcio'],\n",
       "      dtype='object')"
      ]
     },
     "execution_count": 19,
     "metadata": {},
     "output_type": "execute_result"
    }
   ],
   "source": [
    "df = pd.read_csv('dados/acidentes-virgula.csv')\n",
    "print(df.head())\n",
    "df.columns\n"
   ]
  },
  {
   "cell_type": "code",
   "execution_count": 21,
   "id": "b8de6c60",
   "metadata": {},
   "outputs": [
    {
     "name": "stdout",
     "output_type": "stream",
     "text": [
      "\n",
      "--- Filtrando por anos (2020 a 2024) ---\n"
     ]
    },
    {
     "ename": "AttributeError",
     "evalue": "Can only use .dt accessor with datetimelike values",
     "output_type": "error",
     "traceback": [
      "\u001b[31m---------------------------------------------------------------------------\u001b[39m",
      "\u001b[31mAttributeError\u001b[39m                            Traceback (most recent call last)",
      "\u001b[36mCell\u001b[39m\u001b[36m \u001b[39m\u001b[32mIn[21]\u001b[39m\u001b[32m, line 12\u001b[39m\n\u001b[32m      7\u001b[39m ano_fim = \u001b[32m2024\u001b[39m\n\u001b[32m      9\u001b[39m \u001b[38;5;66;03m# Filtra o DataFrame.\u001b[39;00m\n\u001b[32m     10\u001b[39m \u001b[38;5;66;03m# df[coluna_data].dt.year extrai o ano da sua coluna datetime.\u001b[39;00m\n\u001b[32m     11\u001b[39m df_filtrado_por_ano = df[\n\u001b[32m---> \u001b[39m\u001b[32m12\u001b[39m     (\u001b[43mdf\u001b[49m\u001b[43m[\u001b[49m\u001b[33;43m'\u001b[39;49m\u001b[33;43mdata\u001b[39;49m\u001b[33;43m'\u001b[39;49m\u001b[43m]\u001b[49m\u001b[43m.\u001b[49m\u001b[43mdt\u001b[49m.year >= ano_inicio) &\n\u001b[32m     13\u001b[39m     (df[\u001b[33m'\u001b[39m\u001b[33mdata\u001b[39m\u001b[33m'\u001b[39m].dt.year <= ano_fim)\n\u001b[32m     14\u001b[39m ]\n\u001b[32m     16\u001b[39m \u001b[38;5;28mprint\u001b[39m(\u001b[33mf\u001b[39m\u001b[33m\"\u001b[39m\u001b[33mDataFrame original tinha \u001b[39m\u001b[38;5;132;01m{\u001b[39;00m\u001b[38;5;28mlen\u001b[39m(df)\u001b[38;5;132;01m}\u001b[39;00m\u001b[33m linhas.\u001b[39m\u001b[33m\"\u001b[39m)\n\u001b[32m     17\u001b[39m \u001b[38;5;28mprint\u001b[39m(\u001b[33mf\u001b[39m\u001b[33m\"\u001b[39m\u001b[33mDataFrame filtrado por anos (\u001b[39m\u001b[38;5;132;01m{\u001b[39;00mano_inicio\u001b[38;5;132;01m}\u001b[39;00m\u001b[33m-\u001b[39m\u001b[38;5;132;01m{\u001b[39;00mano_fim\u001b[38;5;132;01m}\u001b[39;00m\u001b[33m) tem \u001b[39m\u001b[38;5;132;01m{\u001b[39;00m\u001b[38;5;28mlen\u001b[39m(df_filtrado_por_ano)\u001b[38;5;132;01m}\u001b[39;00m\u001b[33m linhas.\u001b[39m\u001b[33m\"\u001b[39m)\n",
      "\u001b[36mFile \u001b[39m\u001b[32m~/.local/lib/python3.12/site-packages/pandas/core/generic.py:6299\u001b[39m, in \u001b[36mNDFrame.__getattr__\u001b[39m\u001b[34m(self, name)\u001b[39m\n\u001b[32m   6292\u001b[39m \u001b[38;5;28;01mif\u001b[39;00m (\n\u001b[32m   6293\u001b[39m     name \u001b[38;5;129;01mnot\u001b[39;00m \u001b[38;5;129;01min\u001b[39;00m \u001b[38;5;28mself\u001b[39m._internal_names_set\n\u001b[32m   6294\u001b[39m     \u001b[38;5;129;01mand\u001b[39;00m name \u001b[38;5;129;01mnot\u001b[39;00m \u001b[38;5;129;01min\u001b[39;00m \u001b[38;5;28mself\u001b[39m._metadata\n\u001b[32m   6295\u001b[39m     \u001b[38;5;129;01mand\u001b[39;00m name \u001b[38;5;129;01mnot\u001b[39;00m \u001b[38;5;129;01min\u001b[39;00m \u001b[38;5;28mself\u001b[39m._accessors\n\u001b[32m   6296\u001b[39m     \u001b[38;5;129;01mand\u001b[39;00m \u001b[38;5;28mself\u001b[39m._info_axis._can_hold_identifiers_and_holds_name(name)\n\u001b[32m   6297\u001b[39m ):\n\u001b[32m   6298\u001b[39m     \u001b[38;5;28;01mreturn\u001b[39;00m \u001b[38;5;28mself\u001b[39m[name]\n\u001b[32m-> \u001b[39m\u001b[32m6299\u001b[39m \u001b[38;5;28;01mreturn\u001b[39;00m \u001b[38;5;28;43mobject\u001b[39;49m\u001b[43m.\u001b[49m\u001b[34;43m__getattribute__\u001b[39;49m\u001b[43m(\u001b[49m\u001b[38;5;28;43mself\u001b[39;49m\u001b[43m,\u001b[49m\u001b[43m \u001b[49m\u001b[43mname\u001b[49m\u001b[43m)\u001b[49m\n",
      "\u001b[36mFile \u001b[39m\u001b[32m~/.local/lib/python3.12/site-packages/pandas/core/accessor.py:224\u001b[39m, in \u001b[36mCachedAccessor.__get__\u001b[39m\u001b[34m(self, obj, cls)\u001b[39m\n\u001b[32m    221\u001b[39m \u001b[38;5;28;01mif\u001b[39;00m obj \u001b[38;5;129;01mis\u001b[39;00m \u001b[38;5;28;01mNone\u001b[39;00m:\n\u001b[32m    222\u001b[39m     \u001b[38;5;66;03m# we're accessing the attribute of the class, i.e., Dataset.geo\u001b[39;00m\n\u001b[32m    223\u001b[39m     \u001b[38;5;28;01mreturn\u001b[39;00m \u001b[38;5;28mself\u001b[39m._accessor\n\u001b[32m--> \u001b[39m\u001b[32m224\u001b[39m accessor_obj = \u001b[38;5;28;43mself\u001b[39;49m\u001b[43m.\u001b[49m\u001b[43m_accessor\u001b[49m\u001b[43m(\u001b[49m\u001b[43mobj\u001b[49m\u001b[43m)\u001b[49m\n\u001b[32m    225\u001b[39m \u001b[38;5;66;03m# Replace the property with the accessor object. Inspired by:\u001b[39;00m\n\u001b[32m    226\u001b[39m \u001b[38;5;66;03m# https://www.pydanny.com/cached-property.html\u001b[39;00m\n\u001b[32m    227\u001b[39m \u001b[38;5;66;03m# We need to use object.__setattr__ because we overwrite __setattr__ on\u001b[39;00m\n\u001b[32m    228\u001b[39m \u001b[38;5;66;03m# NDFrame\u001b[39;00m\n\u001b[32m    229\u001b[39m \u001b[38;5;28mobject\u001b[39m.\u001b[34m__setattr__\u001b[39m(obj, \u001b[38;5;28mself\u001b[39m._name, accessor_obj)\n",
      "\u001b[36mFile \u001b[39m\u001b[32m~/.local/lib/python3.12/site-packages/pandas/core/indexes/accessors.py:643\u001b[39m, in \u001b[36mCombinedDatetimelikeProperties.__new__\u001b[39m\u001b[34m(cls, data)\u001b[39m\n\u001b[32m    640\u001b[39m \u001b[38;5;28;01melif\u001b[39;00m \u001b[38;5;28misinstance\u001b[39m(data.dtype, PeriodDtype):\n\u001b[32m    641\u001b[39m     \u001b[38;5;28;01mreturn\u001b[39;00m PeriodProperties(data, orig)\n\u001b[32m--> \u001b[39m\u001b[32m643\u001b[39m \u001b[38;5;28;01mraise\u001b[39;00m \u001b[38;5;167;01mAttributeError\u001b[39;00m(\u001b[33m\"\u001b[39m\u001b[33mCan only use .dt accessor with datetimelike values\u001b[39m\u001b[33m\"\u001b[39m)\n",
      "\u001b[31mAttributeError\u001b[39m: Can only use .dt accessor with datetimelike values"
     ]
    }
   ],
   "source": [
    "# --- INÍCIO DA FILTRAGEM POR ANO ---\n",
    "print(\"\\n--- Filtrando por anos (2020 a 2024) ---\")\n",
    "\n",
    "df = pd.read_csv('dados/acidentes-virgula.csv')\n",
    "# Define o período de interesse\n",
    "ano_inicio = 2020\n",
    "ano_fim = 2024\n",
    "\n",
    "# Filtra o DataFrame.\n",
    "# df[coluna_data].dt.year extrai o ano da sua coluna datetime.\n",
    "df_filtrado_por_ano = df[\n",
    "    (df['data'].dt.year >= ano_inicio) &\n",
    "    (df['data'].dt.year <= ano_fim)\n",
    "]\n",
    "\n",
    "print(f\"DataFrame original tinha {len(df)} linhas.\")\n",
    "print(f\"DataFrame filtrado por anos ({ano_inicio}-{ano_fim}) tem {len(df_filtrado_por_ano)} linhas.\")\n",
    "\n",
    "print(\"\\n>>> Primeiras 5 linhas do DataFrame Filtrado por Ano:\")\n",
    "print(df_filtrado_por_ano.head())\n",
    "\n",
    "# Exemplo: Contagem de registros por ano no DataFrame filtrado\n",
    "print(\"\\n>>> Contagem de registros por ano (filtrado):\")\n",
    "print(df_filtrado_por_ano['data'].dt.year.value_counts().sort_index())\n",
    "\n",
    "print(\"\\n--- Fim da filtragem por ano ---\")"
   ]
  }
 ],
 "metadata": {
  "kernelspec": {
   "display_name": "Python 3",
   "language": "python",
   "name": "python3"
  },
  "language_info": {
   "codemirror_mode": {
    "name": "ipython",
    "version": 3
   },
   "file_extension": ".py",
   "mimetype": "text/x-python",
   "name": "python",
   "nbconvert_exporter": "python",
   "pygments_lexer": "ipython3",
   "version": "3.12.1"
  }
 },
 "nbformat": 4,
 "nbformat_minor": 5
}
