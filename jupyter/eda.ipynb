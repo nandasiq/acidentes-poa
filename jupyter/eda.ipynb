{
 "cells": [
  {
   "cell_type": "markdown",
   "id": "7d928fc0",
   "metadata": {},
   "source": [
    "Aqui são apresentados os métodos usados na limpeza, transformação, enriquecimento, as ferramentas que serão utilizadas na análise. Esse capítulo será desenvolvido em três partes: a) construção do dataset principal, com o enriquecimento, conexão com API meteorológica, construção do Jupyter notebook, importação das bibliotecas Pandas, Resquests, Matplot, Seaborn, Plotly Express;  b) tratamento e limpeza, convertendo os tipos, tratando dados ausentes, desenvolvendo engenharia de variáveis (feature engineering); c) análise exploratória dos dados.\n",
    "Serão apresentadas os insights extraídos dessa análisedividida em três vertentes:\n",
    "•\tTemporal: existe uma sazonalidade? Quais dias de semana são mais críticos? Existe um horário com maior índice de acidentes?\n",
    "•\tTipo de acidente: quais são mais comuns? Quais tipos de veículo mais se envolve em acidentes? Quais tipos tem mais vítimas?\n",
    "•\tAnálise de severidade: qual a gravidade? Teve vítima fatal? Quais veículos causam mais vítimas? \n"
   ]
  }
 ],
 "metadata": {
  "language_info": {
   "name": "python"
  }
 },
 "nbformat": 4,
 "nbformat_minor": 5
}
