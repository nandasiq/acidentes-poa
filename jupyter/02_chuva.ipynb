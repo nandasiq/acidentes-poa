{
 "cells": [
  {
   "cell_type": "markdown",
   "id": "94da7d86",
   "metadata": {},
   "source": [
    "# 02. Enriquecimento de Dados: chuva"
   ]
  },
  {
   "cell_type": "markdown",
   "id": "ec46e256",
   "metadata": {},
   "source": [
    "### 1. Bibliotecas e DataFrame"
   ]
  },
  {
   "cell_type": "code",
   "execution_count": 1,
   "id": "12f263a3",
   "metadata": {},
   "outputs": [],
   "source": [
    "from config import (\n",
    "    pd, np, os, salvar_parquet,\n",
    "    resumo_df, checar_nulos, coord,\n",
    "    anos, caminho_chuva, url\n",
    ")\n",
    "\n",
    "import openmeteo_requests\n",
    "import requests_cache\n",
    "import requests\n",
    "from retry_requests import retry\n",
    "import time\n",
    "\n",
    "df = pd.read_parquet(\"../dados/intermediarios/acidentes_tratado.parquet\")"
   ]
  },
  {
   "cell_type": "markdown",
   "id": "26568d4a",
   "metadata": {},
   "source": [
    "### 2. Configura API Open-Meteo com cache e retry em caso de erro "
   ]
  },
  {
   "cell_type": "code",
   "execution_count": 2,
   "id": "812cdbf3",
   "metadata": {},
   "outputs": [],
   "source": [
    "cache_session = requests_cache.CachedSession('.cache', expire_after = -1)\n",
    "retry_session = retry(cache_session, retries = 5, backoff_factor = 0.2)\n",
    "openmeteo = openmeteo_requests.Client(session = retry_session)"
   ]
  },
  {
   "cell_type": "markdown",
   "id": "ae43a259",
   "metadata": {},
   "source": [
    "### 3. Cria função para chamar API"
   ]
  },
  {
   "cell_type": "markdown",
   "id": "ec9d1e11",
   "metadata": {},
   "source": [
    "Função para coletar dados horários de precipitação de um ponto (lat/lon)\n",
    "para um determinado ano, salvando em formato parquet.\n",
    "\n",
    "Args:  \n",
    "* lat (float): Latitude\n",
    "* lon (float): Longitude\n",
    "* nome (str): Nome da região (ex.: NORTE)\n"
   ]
  },
  {
   "cell_type": "code",
   "execution_count": 3,
   "id": "cd91765e",
   "metadata": {},
   "outputs": [],
   "source": [
    "def dados_chuva(lat: float, lon: float, nome: str):\n",
    "   \n",
    "    os.makedirs(caminho_chuva, exist_ok=True)\n",
    "\n",
    "    for ano in anos:\n",
    "        params = {\n",
    "            \"latitude\": lat,\n",
    "            \"longitude\": lon,\n",
    "            \"start_date\": f\"{ano}-01-01\",\n",
    "            \"end_date\": f\"{ano}-12-31\",\n",
    "            \"hourly\": 'precipitation',\n",
    "            \"timezone\": 'America/Sao_Paulo'\n",
    "        }\n",
    "\n",
    "        responses = openmeteo.weather_api(url, params=params)\n",
    "        response = responses[0]\n",
    "        hourly = response.Hourly()\n",
    "\n",
    "        chuva_hora = hourly.Variables(0).ValuesAsNumpy()\n",
    "\n",
    "        df_chuva = pd.DataFrame({\n",
    "            \"date\": pd.date_range(\n",
    "                start=pd.to_datetime(hourly.Time(), unit=\"s\", utc=True),\n",
    "                end=pd.to_datetime(hourly.TimeEnd(), unit=\"s\", utc=True),\n",
    "                freq=pd.Timedelta(seconds=hourly.Interval()),\n",
    "                inclusive=\"left\"\n",
    "            ),\n",
    "            \"precipitation\": chuva_hora\n",
    "        })\n",
    "\n",
    "        nome_arquivo = f\"{caminho_chuva}{nome.lower()}_{ano}.parquet\"\n",
    "        salvar_parquet(df_chuva, nome_arquivo)\n",
    "    return df_chuva"
   ]
  },
  {
   "cell_type": "markdown",
   "id": "6ad37edf",
   "metadata": {},
   "source": [
    "### 4. Chama API por região"
   ]
  },
  {
   "cell_type": "markdown",
   "id": "2e5c847f",
   "metadata": {},
   "source": [
    "#### 1. Norte"
   ]
  },
  {
   "cell_type": "code",
   "execution_count": 7,
   "id": "32739dfe",
   "metadata": {},
   "outputs": [
    {
     "name": "stdout",
     "output_type": "stream",
     "text": [
      "Salvo: ../dados/intermediarios/clima/norte_2020.parquet\n",
      "Salvo: ../dados/intermediarios/clima/norte_2021.parquet\n",
      "Salvo: ../dados/intermediarios/clima/norte_2022.parquet\n",
      "Salvo: ../dados/intermediarios/clima/norte_2023.parquet\n",
      "Salvo: ../dados/intermediarios/clima/norte_2024.parquet\n",
      "Dimensões: (8760, 2)\n",
      "\n",
      "Tipos de dados:\n",
      "date             datetime64[ns, UTC]\n",
      "precipitation                float32\n",
      "dtype: object\n",
      "\n",
      "Nulos por coluna:\n",
      "date                0\n",
      "precipitation    1942\n",
      "dtype: int64\n"
     ]
    },
    {
     "data": {
      "text/html": [
       "<div>\n",
       "<style scoped>\n",
       "    .dataframe tbody tr th:only-of-type {\n",
       "        vertical-align: middle;\n",
       "    }\n",
       "\n",
       "    .dataframe tbody tr th {\n",
       "        vertical-align: top;\n",
       "    }\n",
       "\n",
       "    .dataframe thead th {\n",
       "        text-align: right;\n",
       "    }\n",
       "</style>\n",
       "<table border=\"1\" class=\"dataframe\">\n",
       "  <thead>\n",
       "    <tr style=\"text-align: right;\">\n",
       "      <th></th>\n",
       "      <th>date</th>\n",
       "      <th>precipitation</th>\n",
       "    </tr>\n",
       "  </thead>\n",
       "  <tbody>\n",
       "    <tr>\n",
       "      <th>0</th>\n",
       "      <td>2021-01-01 03:00:00+00:00</td>\n",
       "      <td>NaN</td>\n",
       "    </tr>\n",
       "    <tr>\n",
       "      <th>1</th>\n",
       "      <td>2021-01-01 04:00:00+00:00</td>\n",
       "      <td>NaN</td>\n",
       "    </tr>\n",
       "    <tr>\n",
       "      <th>2</th>\n",
       "      <td>2021-01-01 05:00:00+00:00</td>\n",
       "      <td>NaN</td>\n",
       "    </tr>\n",
       "    <tr>\n",
       "      <th>3</th>\n",
       "      <td>2021-01-01 06:00:00+00:00</td>\n",
       "      <td>NaN</td>\n",
       "    </tr>\n",
       "    <tr>\n",
       "      <th>4</th>\n",
       "      <td>2021-01-01 07:00:00+00:00</td>\n",
       "      <td>NaN</td>\n",
       "    </tr>\n",
       "  </tbody>\n",
       "</table>\n",
       "</div>"
      ],
      "text/plain": [
       "                       date  precipitation\n",
       "0 2021-01-01 03:00:00+00:00            NaN\n",
       "1 2021-01-01 04:00:00+00:00            NaN\n",
       "2 2021-01-01 05:00:00+00:00            NaN\n",
       "3 2021-01-01 06:00:00+00:00            NaN\n",
       "4 2021-01-01 07:00:00+00:00            NaN"
      ]
     },
     "metadata": {},
     "output_type": "display_data"
    }
   ],
   "source": [
    "lat, lon = coord[\"NORTE\"]\n",
    "dados_chuva(lat, lon, \"NORTE\")\n",
    "df_teste = pd.read_parquet(f\"{caminho_chuva}norte_2021.parquet\")\n",
    "resumo_df(df_teste)"
   ]
  },
  {
   "cell_type": "markdown",
   "id": "7f35760c",
   "metadata": {},
   "source": [
    "#### 2. Leste"
   ]
  },
  {
   "cell_type": "code",
   "execution_count": 24,
   "id": "1da150ae",
   "metadata": {},
   "outputs": [
    {
     "name": "stdout",
     "output_type": "stream",
     "text": [
      "✅ DataFrame salvo em ../dados/intermediarios/clima/leste_2020.parquet\n",
      "Salvo: ../dados/intermediarios/clima/leste_2020.parquet\n",
      "✅ DataFrame salvo em ../dados/intermediarios/clima/leste_2021.parquet\n",
      "Salvo: ../dados/intermediarios/clima/leste_2021.parquet\n",
      "✅ DataFrame salvo em ../dados/intermediarios/clima/leste_2022.parquet\n",
      "Salvo: ../dados/intermediarios/clima/leste_2022.parquet\n",
      "✅ DataFrame salvo em ../dados/intermediarios/clima/leste_2023.parquet\n",
      "Salvo: ../dados/intermediarios/clima/leste_2023.parquet\n",
      "✅ DataFrame salvo em ../dados/intermediarios/clima/leste_2024.parquet\n",
      "Salvo: ../dados/intermediarios/clima/leste_2024.parquet\n"
     ]
    },
    {
     "data": {
      "application/vnd.microsoft.datawrangler.viewer.v0+json": {
       "columns": [
        {
         "name": "index",
         "rawType": "int64",
         "type": "integer"
        },
        {
         "name": "date",
         "rawType": "datetime64[ns, UTC]",
         "type": "unknown"
        },
        {
         "name": "precipitation",
         "rawType": "float32",
         "type": "float"
        }
       ],
       "ref": "41b15d6a-b52d-47c0-bb99-eb67efc4e07b",
       "rows": [
        [
         "0",
         "2024-01-01 03:00:00+00:00",
         "0.0"
        ],
        [
         "1",
         "2024-01-01 04:00:00+00:00",
         "0.0"
        ],
        [
         "2",
         "2024-01-01 05:00:00+00:00",
         "0.0"
        ],
        [
         "3",
         "2024-01-01 06:00:00+00:00",
         "0.0"
        ],
        [
         "4",
         "2024-01-01 07:00:00+00:00",
         "0.0"
        ],
        [
         "5",
         "2024-01-01 08:00:00+00:00",
         "0.0"
        ],
        [
         "6",
         "2024-01-01 09:00:00+00:00",
         "0.0"
        ],
        [
         "7",
         "2024-01-01 10:00:00+00:00",
         "0.0"
        ],
        [
         "8",
         "2024-01-01 11:00:00+00:00",
         "0.0"
        ],
        [
         "9",
         "2024-01-01 12:00:00+00:00",
         "0.0"
        ],
        [
         "10",
         "2024-01-01 13:00:00+00:00",
         "0.0"
        ],
        [
         "11",
         "2024-01-01 14:00:00+00:00",
         "0.0"
        ],
        [
         "12",
         "2024-01-01 15:00:00+00:00",
         "0.0"
        ],
        [
         "13",
         "2024-01-01 16:00:00+00:00",
         "0.0"
        ],
        [
         "14",
         "2024-01-01 17:00:00+00:00",
         "0.0"
        ],
        [
         "15",
         "2024-01-01 18:00:00+00:00",
         "0.0"
        ],
        [
         "16",
         "2024-01-01 19:00:00+00:00",
         "0.0"
        ],
        [
         "17",
         "2024-01-01 20:00:00+00:00",
         "0.0"
        ],
        [
         "18",
         "2024-01-01 21:00:00+00:00",
         "0.0"
        ],
        [
         "19",
         "2024-01-01 22:00:00+00:00",
         "0.0"
        ],
        [
         "20",
         "2024-01-01 23:00:00+00:00",
         "0.0"
        ],
        [
         "21",
         "2024-01-02 00:00:00+00:00",
         "0.0"
        ],
        [
         "22",
         "2024-01-02 01:00:00+00:00",
         "0.0"
        ],
        [
         "23",
         "2024-01-02 02:00:00+00:00",
         "0.0"
        ],
        [
         "24",
         "2024-01-02 03:00:00+00:00",
         "0.0"
        ],
        [
         "25",
         "2024-01-02 04:00:00+00:00",
         "0.0"
        ],
        [
         "26",
         "2024-01-02 05:00:00+00:00",
         "0.0"
        ],
        [
         "27",
         "2024-01-02 06:00:00+00:00",
         "0.0"
        ],
        [
         "28",
         "2024-01-02 07:00:00+00:00",
         "0.0"
        ],
        [
         "29",
         "2024-01-02 08:00:00+00:00",
         "0.0"
        ],
        [
         "30",
         "2024-01-02 09:00:00+00:00",
         "0.0"
        ],
        [
         "31",
         "2024-01-02 10:00:00+00:00",
         "1.3"
        ],
        [
         "32",
         "2024-01-02 11:00:00+00:00",
         "0.1"
        ],
        [
         "33",
         "2024-01-02 12:00:00+00:00",
         "0.0"
        ],
        [
         "34",
         "2024-01-02 13:00:00+00:00",
         "0.6"
        ],
        [
         "35",
         "2024-01-02 14:00:00+00:00",
         "2.2"
        ],
        [
         "36",
         "2024-01-02 15:00:00+00:00",
         "3.2"
        ],
        [
         "37",
         "2024-01-02 16:00:00+00:00",
         "0.3"
        ],
        [
         "38",
         "2024-01-02 17:00:00+00:00",
         "1.1"
        ],
        [
         "39",
         "2024-01-02 18:00:00+00:00",
         "3.3"
        ],
        [
         "40",
         "2024-01-02 19:00:00+00:00",
         "2.5"
        ],
        [
         "41",
         "2024-01-02 20:00:00+00:00",
         "1.3"
        ],
        [
         "42",
         "2024-01-02 21:00:00+00:00",
         "0.5"
        ],
        [
         "43",
         "2024-01-02 22:00:00+00:00",
         "0.0"
        ],
        [
         "44",
         "2024-01-02 23:00:00+00:00",
         "0.0"
        ],
        [
         "45",
         "2024-01-03 00:00:00+00:00",
         "0.0"
        ],
        [
         "46",
         "2024-01-03 01:00:00+00:00",
         "0.0"
        ],
        [
         "47",
         "2024-01-03 02:00:00+00:00",
         "0.0"
        ],
        [
         "48",
         "2024-01-03 03:00:00+00:00",
         "0.0"
        ],
        [
         "49",
         "2024-01-03 04:00:00+00:00",
         "0.0"
        ]
       ],
       "shape": {
        "columns": 2,
        "rows": 8784
       }
      },
      "text/html": [
       "<div>\n",
       "<style scoped>\n",
       "    .dataframe tbody tr th:only-of-type {\n",
       "        vertical-align: middle;\n",
       "    }\n",
       "\n",
       "    .dataframe tbody tr th {\n",
       "        vertical-align: top;\n",
       "    }\n",
       "\n",
       "    .dataframe thead th {\n",
       "        text-align: right;\n",
       "    }\n",
       "</style>\n",
       "<table border=\"1\" class=\"dataframe\">\n",
       "  <thead>\n",
       "    <tr style=\"text-align: right;\">\n",
       "      <th></th>\n",
       "      <th>date</th>\n",
       "      <th>precipitation</th>\n",
       "    </tr>\n",
       "  </thead>\n",
       "  <tbody>\n",
       "    <tr>\n",
       "      <th>0</th>\n",
       "      <td>2024-01-01 03:00:00+00:00</td>\n",
       "      <td>0.00</td>\n",
       "    </tr>\n",
       "    <tr>\n",
       "      <th>1</th>\n",
       "      <td>2024-01-01 04:00:00+00:00</td>\n",
       "      <td>0.00</td>\n",
       "    </tr>\n",
       "    <tr>\n",
       "      <th>2</th>\n",
       "      <td>2024-01-01 05:00:00+00:00</td>\n",
       "      <td>0.00</td>\n",
       "    </tr>\n",
       "    <tr>\n",
       "      <th>3</th>\n",
       "      <td>2024-01-01 06:00:00+00:00</td>\n",
       "      <td>0.00</td>\n",
       "    </tr>\n",
       "    <tr>\n",
       "      <th>4</th>\n",
       "      <td>2024-01-01 07:00:00+00:00</td>\n",
       "      <td>0.00</td>\n",
       "    </tr>\n",
       "    <tr>\n",
       "      <th>...</th>\n",
       "      <td>...</td>\n",
       "      <td>...</td>\n",
       "    </tr>\n",
       "    <tr>\n",
       "      <th>8779</th>\n",
       "      <td>2024-12-31 22:00:00+00:00</td>\n",
       "      <td>0.00</td>\n",
       "    </tr>\n",
       "    <tr>\n",
       "      <th>8780</th>\n",
       "      <td>2024-12-31 23:00:00+00:00</td>\n",
       "      <td>0.00</td>\n",
       "    </tr>\n",
       "    <tr>\n",
       "      <th>8781</th>\n",
       "      <td>2025-01-01 00:00:00+00:00</td>\n",
       "      <td>0.00</td>\n",
       "    </tr>\n",
       "    <tr>\n",
       "      <th>8782</th>\n",
       "      <td>2025-01-01 01:00:00+00:00</td>\n",
       "      <td>0.00</td>\n",
       "    </tr>\n",
       "    <tr>\n",
       "      <th>8783</th>\n",
       "      <td>2025-01-01 02:00:00+00:00</td>\n",
       "      <td>0.00</td>\n",
       "    </tr>\n",
       "  </tbody>\n",
       "</table>\n",
       "<p>8784 rows × 2 columns</p>\n",
       "</div>"
      ],
      "text/plain": [
       "                          date  precipitation\n",
       "0    2024-01-01 03:00:00+00:00           0.00\n",
       "1    2024-01-01 04:00:00+00:00           0.00\n",
       "2    2024-01-01 05:00:00+00:00           0.00\n",
       "3    2024-01-01 06:00:00+00:00           0.00\n",
       "4    2024-01-01 07:00:00+00:00           0.00\n",
       "...                        ...            ...\n",
       "8779 2024-12-31 22:00:00+00:00           0.00\n",
       "8780 2024-12-31 23:00:00+00:00           0.00\n",
       "8781 2025-01-01 00:00:00+00:00           0.00\n",
       "8782 2025-01-01 01:00:00+00:00           0.00\n",
       "8783 2025-01-01 02:00:00+00:00           0.00\n",
       "\n",
       "[8784 rows x 2 columns]"
      ]
     },
     "execution_count": 24,
     "metadata": {},
     "output_type": "execute_result"
    }
   ],
   "source": [
    "lat, lon = coord[\"LESTE\"]\n",
    "dados_chuva(lat, lon, \"LESTE\")"
   ]
  },
  {
   "cell_type": "markdown",
   "id": "e42dc108",
   "metadata": {},
   "source": [
    "#### 3. Centro"
   ]
  },
  {
   "cell_type": "code",
   "execution_count": 26,
   "id": "7d3a2466",
   "metadata": {},
   "outputs": [
    {
     "name": "stdout",
     "output_type": "stream",
     "text": [
      "✅ DataFrame salvo em ../dados/intermediarios/clima/centro_2020.parquet\n",
      "✅ DataFrame salvo em ../dados/intermediarios/clima/centro_2021.parquet\n",
      "✅ DataFrame salvo em ../dados/intermediarios/clima/centro_2022.parquet\n",
      "✅ DataFrame salvo em ../dados/intermediarios/clima/centro_2023.parquet\n",
      "✅ DataFrame salvo em ../dados/intermediarios/clima/centro_2024.parquet\n"
     ]
    },
    {
     "data": {
      "application/vnd.microsoft.datawrangler.viewer.v0+json": {
       "columns": [
        {
         "name": "index",
         "rawType": "int64",
         "type": "integer"
        },
        {
         "name": "date",
         "rawType": "datetime64[ns, UTC]",
         "type": "unknown"
        },
        {
         "name": "precipitation",
         "rawType": "float32",
         "type": "float"
        }
       ],
       "ref": "336c8411-424d-402a-ac62-f627b5745fa9",
       "rows": [
        [
         "0",
         "2024-01-01 03:00:00+00:00",
         "0.0"
        ],
        [
         "1",
         "2024-01-01 04:00:00+00:00",
         "0.0"
        ],
        [
         "2",
         "2024-01-01 05:00:00+00:00",
         "0.0"
        ],
        [
         "3",
         "2024-01-01 06:00:00+00:00",
         "0.0"
        ],
        [
         "4",
         "2024-01-01 07:00:00+00:00",
         "0.0"
        ],
        [
         "5",
         "2024-01-01 08:00:00+00:00",
         "0.0"
        ],
        [
         "6",
         "2024-01-01 09:00:00+00:00",
         "0.0"
        ],
        [
         "7",
         "2024-01-01 10:00:00+00:00",
         "0.0"
        ],
        [
         "8",
         "2024-01-01 11:00:00+00:00",
         "0.0"
        ],
        [
         "9",
         "2024-01-01 12:00:00+00:00",
         "0.0"
        ],
        [
         "10",
         "2024-01-01 13:00:00+00:00",
         "0.0"
        ],
        [
         "11",
         "2024-01-01 14:00:00+00:00",
         "0.0"
        ],
        [
         "12",
         "2024-01-01 15:00:00+00:00",
         "0.0"
        ],
        [
         "13",
         "2024-01-01 16:00:00+00:00",
         "0.0"
        ],
        [
         "14",
         "2024-01-01 17:00:00+00:00",
         "0.0"
        ],
        [
         "15",
         "2024-01-01 18:00:00+00:00",
         "0.0"
        ],
        [
         "16",
         "2024-01-01 19:00:00+00:00",
         "0.0"
        ],
        [
         "17",
         "2024-01-01 20:00:00+00:00",
         "0.0"
        ],
        [
         "18",
         "2024-01-01 21:00:00+00:00",
         "0.0"
        ],
        [
         "19",
         "2024-01-01 22:00:00+00:00",
         "0.0"
        ],
        [
         "20",
         "2024-01-01 23:00:00+00:00",
         "0.0"
        ],
        [
         "21",
         "2024-01-02 00:00:00+00:00",
         "0.0"
        ],
        [
         "22",
         "2024-01-02 01:00:00+00:00",
         "0.0"
        ],
        [
         "23",
         "2024-01-02 02:00:00+00:00",
         "0.0"
        ],
        [
         "24",
         "2024-01-02 03:00:00+00:00",
         "0.0"
        ],
        [
         "25",
         "2024-01-02 04:00:00+00:00",
         "0.0"
        ],
        [
         "26",
         "2024-01-02 05:00:00+00:00",
         "0.0"
        ],
        [
         "27",
         "2024-01-02 06:00:00+00:00",
         "0.0"
        ],
        [
         "28",
         "2024-01-02 07:00:00+00:00",
         "0.1"
        ],
        [
         "29",
         "2024-01-02 08:00:00+00:00",
         "0.0"
        ],
        [
         "30",
         "2024-01-02 09:00:00+00:00",
         "0.0"
        ],
        [
         "31",
         "2024-01-02 10:00:00+00:00",
         "1.4"
        ],
        [
         "32",
         "2024-01-02 11:00:00+00:00",
         "0.0"
        ],
        [
         "33",
         "2024-01-02 12:00:00+00:00",
         "0.0"
        ],
        [
         "34",
         "2024-01-02 13:00:00+00:00",
         "0.7"
        ],
        [
         "35",
         "2024-01-02 14:00:00+00:00",
         "2.3"
        ],
        [
         "36",
         "2024-01-02 15:00:00+00:00",
         "1.2"
        ],
        [
         "37",
         "2024-01-02 16:00:00+00:00",
         "0.0"
        ],
        [
         "38",
         "2024-01-02 17:00:00+00:00",
         "0.3"
        ],
        [
         "39",
         "2024-01-02 18:00:00+00:00",
         "0.7"
        ],
        [
         "40",
         "2024-01-02 19:00:00+00:00",
         "1.5"
        ],
        [
         "41",
         "2024-01-02 20:00:00+00:00",
         "1.8"
        ],
        [
         "42",
         "2024-01-02 21:00:00+00:00",
         "0.0"
        ],
        [
         "43",
         "2024-01-02 22:00:00+00:00",
         "0.2"
        ],
        [
         "44",
         "2024-01-02 23:00:00+00:00",
         "0.1"
        ],
        [
         "45",
         "2024-01-03 00:00:00+00:00",
         "0.0"
        ],
        [
         "46",
         "2024-01-03 01:00:00+00:00",
         "0.0"
        ],
        [
         "47",
         "2024-01-03 02:00:00+00:00",
         "0.0"
        ],
        [
         "48",
         "2024-01-03 03:00:00+00:00",
         "0.0"
        ],
        [
         "49",
         "2024-01-03 04:00:00+00:00",
         "0.0"
        ]
       ],
       "shape": {
        "columns": 2,
        "rows": 8784
       }
      },
      "text/html": [
       "<div>\n",
       "<style scoped>\n",
       "    .dataframe tbody tr th:only-of-type {\n",
       "        vertical-align: middle;\n",
       "    }\n",
       "\n",
       "    .dataframe tbody tr th {\n",
       "        vertical-align: top;\n",
       "    }\n",
       "\n",
       "    .dataframe thead th {\n",
       "        text-align: right;\n",
       "    }\n",
       "</style>\n",
       "<table border=\"1\" class=\"dataframe\">\n",
       "  <thead>\n",
       "    <tr style=\"text-align: right;\">\n",
       "      <th></th>\n",
       "      <th>date</th>\n",
       "      <th>precipitation</th>\n",
       "    </tr>\n",
       "  </thead>\n",
       "  <tbody>\n",
       "    <tr>\n",
       "      <th>0</th>\n",
       "      <td>2024-01-01 03:00:00+00:00</td>\n",
       "      <td>0.00</td>\n",
       "    </tr>\n",
       "    <tr>\n",
       "      <th>1</th>\n",
       "      <td>2024-01-01 04:00:00+00:00</td>\n",
       "      <td>0.00</td>\n",
       "    </tr>\n",
       "    <tr>\n",
       "      <th>2</th>\n",
       "      <td>2024-01-01 05:00:00+00:00</td>\n",
       "      <td>0.00</td>\n",
       "    </tr>\n",
       "    <tr>\n",
       "      <th>3</th>\n",
       "      <td>2024-01-01 06:00:00+00:00</td>\n",
       "      <td>0.00</td>\n",
       "    </tr>\n",
       "    <tr>\n",
       "      <th>4</th>\n",
       "      <td>2024-01-01 07:00:00+00:00</td>\n",
       "      <td>0.00</td>\n",
       "    </tr>\n",
       "    <tr>\n",
       "      <th>...</th>\n",
       "      <td>...</td>\n",
       "      <td>...</td>\n",
       "    </tr>\n",
       "    <tr>\n",
       "      <th>8779</th>\n",
       "      <td>2024-12-31 22:00:00+00:00</td>\n",
       "      <td>0.20</td>\n",
       "    </tr>\n",
       "    <tr>\n",
       "      <th>8780</th>\n",
       "      <td>2024-12-31 23:00:00+00:00</td>\n",
       "      <td>0.00</td>\n",
       "    </tr>\n",
       "    <tr>\n",
       "      <th>8781</th>\n",
       "      <td>2025-01-01 00:00:00+00:00</td>\n",
       "      <td>0.00</td>\n",
       "    </tr>\n",
       "    <tr>\n",
       "      <th>8782</th>\n",
       "      <td>2025-01-01 01:00:00+00:00</td>\n",
       "      <td>0.00</td>\n",
       "    </tr>\n",
       "    <tr>\n",
       "      <th>8783</th>\n",
       "      <td>2025-01-01 02:00:00+00:00</td>\n",
       "      <td>0.00</td>\n",
       "    </tr>\n",
       "  </tbody>\n",
       "</table>\n",
       "<p>8784 rows × 2 columns</p>\n",
       "</div>"
      ],
      "text/plain": [
       "                          date  precipitation\n",
       "0    2024-01-01 03:00:00+00:00           0.00\n",
       "1    2024-01-01 04:00:00+00:00           0.00\n",
       "2    2024-01-01 05:00:00+00:00           0.00\n",
       "3    2024-01-01 06:00:00+00:00           0.00\n",
       "4    2024-01-01 07:00:00+00:00           0.00\n",
       "...                        ...            ...\n",
       "8779 2024-12-31 22:00:00+00:00           0.20\n",
       "8780 2024-12-31 23:00:00+00:00           0.00\n",
       "8781 2025-01-01 00:00:00+00:00           0.00\n",
       "8782 2025-01-01 01:00:00+00:00           0.00\n",
       "8783 2025-01-01 02:00:00+00:00           0.00\n",
       "\n",
       "[8784 rows x 2 columns]"
      ]
     },
     "execution_count": 26,
     "metadata": {},
     "output_type": "execute_result"
    }
   ],
   "source": [
    "lat, lon = coord[\"CENTRO\"]\n",
    "dados_chuva(lat, lon, \"CENTRO\")"
   ]
  },
  {
   "cell_type": "markdown",
   "id": "2c816ed7",
   "metadata": {},
   "source": [
    "#### 4. Sul"
   ]
  },
  {
   "cell_type": "code",
   "execution_count": 18,
   "id": "ccbebc4e",
   "metadata": {},
   "outputs": [
    {
     "name": "stdout",
     "output_type": "stream",
     "text": [
      "✅ Arquivo salvo: ../dados/intermediarios/clima/sul_2020.parquet\n",
      "✅ Arquivo salvo: ../dados/intermediarios/clima/sul_2021.parquet\n",
      "✅ Arquivo salvo: ../dados/intermediarios/clima/sul_2022.parquet\n",
      "✅ Arquivo salvo: ../dados/intermediarios/clima/sul_2023.parquet\n",
      "✅ Arquivo salvo: ../dados/intermediarios/clima/sul_2024.parquet\n"
     ]
    },
    {
     "data": {
      "application/vnd.microsoft.datawrangler.viewer.v0+json": {
       "columns": [
        {
         "name": "index",
         "rawType": "int64",
         "type": "integer"
        },
        {
         "name": "date",
         "rawType": "datetime64[ns, UTC]",
         "type": "unknown"
        },
        {
         "name": "precipitation",
         "rawType": "float32",
         "type": "float"
        }
       ],
       "ref": "7298223a-2b29-436b-9277-9888781a54c1",
       "rows": [
        [
         "0",
         "2024-01-01 03:00:00+00:00",
         "0.0"
        ],
        [
         "1",
         "2024-01-01 04:00:00+00:00",
         "0.0"
        ],
        [
         "2",
         "2024-01-01 05:00:00+00:00",
         "0.0"
        ],
        [
         "3",
         "2024-01-01 06:00:00+00:00",
         "0.0"
        ],
        [
         "4",
         "2024-01-01 07:00:00+00:00",
         "0.0"
        ],
        [
         "5",
         "2024-01-01 08:00:00+00:00",
         "0.0"
        ],
        [
         "6",
         "2024-01-01 09:00:00+00:00",
         "0.0"
        ],
        [
         "7",
         "2024-01-01 10:00:00+00:00",
         "0.0"
        ],
        [
         "8",
         "2024-01-01 11:00:00+00:00",
         "0.0"
        ],
        [
         "9",
         "2024-01-01 12:00:00+00:00",
         "0.0"
        ],
        [
         "10",
         "2024-01-01 13:00:00+00:00",
         "0.0"
        ],
        [
         "11",
         "2024-01-01 14:00:00+00:00",
         "0.0"
        ],
        [
         "12",
         "2024-01-01 15:00:00+00:00",
         "0.0"
        ],
        [
         "13",
         "2024-01-01 16:00:00+00:00",
         "0.0"
        ],
        [
         "14",
         "2024-01-01 17:00:00+00:00",
         "0.0"
        ],
        [
         "15",
         "2024-01-01 18:00:00+00:00",
         "0.0"
        ],
        [
         "16",
         "2024-01-01 19:00:00+00:00",
         "0.0"
        ],
        [
         "17",
         "2024-01-01 20:00:00+00:00",
         "0.0"
        ],
        [
         "18",
         "2024-01-01 21:00:00+00:00",
         "0.0"
        ],
        [
         "19",
         "2024-01-01 22:00:00+00:00",
         "0.0"
        ],
        [
         "20",
         "2024-01-01 23:00:00+00:00",
         "0.0"
        ],
        [
         "21",
         "2024-01-02 00:00:00+00:00",
         "0.0"
        ],
        [
         "22",
         "2024-01-02 01:00:00+00:00",
         "0.0"
        ],
        [
         "23",
         "2024-01-02 02:00:00+00:00",
         "0.0"
        ],
        [
         "24",
         "2024-01-02 03:00:00+00:00",
         "0.0"
        ],
        [
         "25",
         "2024-01-02 04:00:00+00:00",
         "0.0"
        ],
        [
         "26",
         "2024-01-02 05:00:00+00:00",
         "0.0"
        ],
        [
         "27",
         "2024-01-02 06:00:00+00:00",
         "0.0"
        ],
        [
         "28",
         "2024-01-02 07:00:00+00:00",
         "0.0"
        ],
        [
         "29",
         "2024-01-02 08:00:00+00:00",
         "0.0"
        ],
        [
         "30",
         "2024-01-02 09:00:00+00:00",
         "0.0"
        ],
        [
         "31",
         "2024-01-02 10:00:00+00:00",
         "0.5"
        ],
        [
         "32",
         "2024-01-02 11:00:00+00:00",
         "0.2"
        ],
        [
         "33",
         "2024-01-02 12:00:00+00:00",
         "0.0"
        ],
        [
         "34",
         "2024-01-02 13:00:00+00:00",
         "1.5"
        ],
        [
         "35",
         "2024-01-02 14:00:00+00:00",
         "2.8"
        ],
        [
         "36",
         "2024-01-02 15:00:00+00:00",
         "0.4"
        ],
        [
         "37",
         "2024-01-02 16:00:00+00:00",
         "0.3"
        ],
        [
         "38",
         "2024-01-02 17:00:00+00:00",
         "0.7"
        ],
        [
         "39",
         "2024-01-02 18:00:00+00:00",
         "1.4"
        ],
        [
         "40",
         "2024-01-02 19:00:00+00:00",
         "1.9"
        ],
        [
         "41",
         "2024-01-02 20:00:00+00:00",
         "1.7"
        ],
        [
         "42",
         "2024-01-02 21:00:00+00:00",
         "0.4"
        ],
        [
         "43",
         "2024-01-02 22:00:00+00:00",
         "0.0"
        ],
        [
         "44",
         "2024-01-02 23:00:00+00:00",
         "0.0"
        ],
        [
         "45",
         "2024-01-03 00:00:00+00:00",
         "0.0"
        ],
        [
         "46",
         "2024-01-03 01:00:00+00:00",
         "0.0"
        ],
        [
         "47",
         "2024-01-03 02:00:00+00:00",
         "0.0"
        ],
        [
         "48",
         "2024-01-03 03:00:00+00:00",
         "0.0"
        ],
        [
         "49",
         "2024-01-03 04:00:00+00:00",
         "0.0"
        ]
       ],
       "shape": {
        "columns": 2,
        "rows": 8784
       }
      },
      "text/html": [
       "<div>\n",
       "<style scoped>\n",
       "    .dataframe tbody tr th:only-of-type {\n",
       "        vertical-align: middle;\n",
       "    }\n",
       "\n",
       "    .dataframe tbody tr th {\n",
       "        vertical-align: top;\n",
       "    }\n",
       "\n",
       "    .dataframe thead th {\n",
       "        text-align: right;\n",
       "    }\n",
       "</style>\n",
       "<table border=\"1\" class=\"dataframe\">\n",
       "  <thead>\n",
       "    <tr style=\"text-align: right;\">\n",
       "      <th></th>\n",
       "      <th>date</th>\n",
       "      <th>precipitation</th>\n",
       "    </tr>\n",
       "  </thead>\n",
       "  <tbody>\n",
       "    <tr>\n",
       "      <th>0</th>\n",
       "      <td>2024-01-01 03:00:00+00:00</td>\n",
       "      <td>0.00</td>\n",
       "    </tr>\n",
       "    <tr>\n",
       "      <th>1</th>\n",
       "      <td>2024-01-01 04:00:00+00:00</td>\n",
       "      <td>0.00</td>\n",
       "    </tr>\n",
       "    <tr>\n",
       "      <th>2</th>\n",
       "      <td>2024-01-01 05:00:00+00:00</td>\n",
       "      <td>0.00</td>\n",
       "    </tr>\n",
       "    <tr>\n",
       "      <th>3</th>\n",
       "      <td>2024-01-01 06:00:00+00:00</td>\n",
       "      <td>0.00</td>\n",
       "    </tr>\n",
       "    <tr>\n",
       "      <th>4</th>\n",
       "      <td>2024-01-01 07:00:00+00:00</td>\n",
       "      <td>0.00</td>\n",
       "    </tr>\n",
       "    <tr>\n",
       "      <th>...</th>\n",
       "      <td>...</td>\n",
       "      <td>...</td>\n",
       "    </tr>\n",
       "    <tr>\n",
       "      <th>8779</th>\n",
       "      <td>2024-12-31 22:00:00+00:00</td>\n",
       "      <td>0.10</td>\n",
       "    </tr>\n",
       "    <tr>\n",
       "      <th>8780</th>\n",
       "      <td>2024-12-31 23:00:00+00:00</td>\n",
       "      <td>0.00</td>\n",
       "    </tr>\n",
       "    <tr>\n",
       "      <th>8781</th>\n",
       "      <td>2025-01-01 00:00:00+00:00</td>\n",
       "      <td>0.00</td>\n",
       "    </tr>\n",
       "    <tr>\n",
       "      <th>8782</th>\n",
       "      <td>2025-01-01 01:00:00+00:00</td>\n",
       "      <td>0.00</td>\n",
       "    </tr>\n",
       "    <tr>\n",
       "      <th>8783</th>\n",
       "      <td>2025-01-01 02:00:00+00:00</td>\n",
       "      <td>0.00</td>\n",
       "    </tr>\n",
       "  </tbody>\n",
       "</table>\n",
       "<p>8784 rows × 2 columns</p>\n",
       "</div>"
      ],
      "text/plain": [
       "                          date  precipitation\n",
       "0    2024-01-01 03:00:00+00:00           0.00\n",
       "1    2024-01-01 04:00:00+00:00           0.00\n",
       "2    2024-01-01 05:00:00+00:00           0.00\n",
       "3    2024-01-01 06:00:00+00:00           0.00\n",
       "4    2024-01-01 07:00:00+00:00           0.00\n",
       "...                        ...            ...\n",
       "8779 2024-12-31 22:00:00+00:00           0.10\n",
       "8780 2024-12-31 23:00:00+00:00           0.00\n",
       "8781 2025-01-01 00:00:00+00:00           0.00\n",
       "8782 2025-01-01 01:00:00+00:00           0.00\n",
       "8783 2025-01-01 02:00:00+00:00           0.00\n",
       "\n",
       "[8784 rows x 2 columns]"
      ]
     },
     "execution_count": 18,
     "metadata": {},
     "output_type": "execute_result"
    }
   ],
   "source": [
    "lat, lon = coord[\"SUL\"]\n",
    "dados_chuva(lat, lon, \"SUL\")"
   ]
  }
 ],
 "metadata": {
  "kernelspec": {
   "display_name": ".venv",
   "language": "python",
   "name": "python3"
  },
  "language_info": {
   "codemirror_mode": {
    "name": "ipython",
    "version": 3
   },
   "file_extension": ".py",
   "mimetype": "text/x-python",
   "name": "python",
   "nbconvert_exporter": "python",
   "pygments_lexer": "ipython3",
   "version": "3.12.11"
  }
 },
 "nbformat": 4,
 "nbformat_minor": 5
}
