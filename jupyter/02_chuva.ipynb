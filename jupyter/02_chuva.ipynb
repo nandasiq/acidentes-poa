{
 "cells": [
  {
   "cell_type": "code",
   "execution_count": null,
   "id": "94da7d86",
   "metadata": {},
   "outputs": [],
   "source": [
    "# 02. Enriquecimento de Dados: chuva"
   ]
  },
  {
   "cell_type": "markdown",
   "id": "ec46e256",
   "metadata": {},
   "source": [
    "1. Bibliotecas e DataFrame"
   ]
  },
  {
   "cell_type": "code",
   "execution_count": 1,
   "id": "12f263a3",
   "metadata": {},
   "outputs": [],
   "source": [
    "import requests\n",
    "import pandas as pd\n",
    "import os\n",
    "\n",
    "df = pd.read_parquet(\"../dados/intermediarios/acidentes_tratado.parquet\")"
   ]
  },
  {
   "cell_type": "markdown",
   "id": "d85a7e36",
   "metadata": {},
   "source": [
    "2. Coordenadas por região"
   ]
  },
  {
   "cell_type": "code",
   "execution_count": null,
   "id": "a713ed7a",
   "metadata": {},
   "outputs": [],
   "source": [
    "coord = {\n",
    "    \"NORTE\":  (-29.987, -51.165),\n",
    "    \"LESTE\":  (-30.040, -51.160),\n",
    "    \"CENTRO\": (-30.027, -51.220),\n",
    "    \"SUL\":    (-30.120, -51.230)\n",
    "}\n",
    "\n",
    "anos = [2020, 2021, 2022, 2023, 2024]\n",
    "dfs_all = []\n",
    "\n",
    "os.makedirs(\"..dados/intermediarios/clima\", exist_ok=True)"
   ]
  },
  {
   "cell_type": "markdown",
   "id": "26568d4a",
   "metadata": {},
   "source": [
    "3. Cria função para API (por região, por ano para não quebrar)"
   ]
  },
  {
   "cell_type": "code",
   "execution_count": 4,
   "id": "2df8c49f",
   "metadata": {},
   "outputs": [],
   "source": [
    "# Consulta API Open Meteo\n",
    "def chuva_regiao_ano(regiao, lat, lon, ano):\n",
    "    data_inicio = f\"{ano}-01-01\"\n",
    "    data_fim = f\"{ano}-12-31\"\n",
    "    \n",
    "    url = (\n",
    "        \"https://archive-api.open-meteo.com/v1/archive\"\n",
    "        f\"?latitude={lat}&longitude={lon}\"\n",
    "        f\"&start_date={data_inicio}&end_date={data_fim}\"\n",
    "        \"&hourly=precipitation\"\n",
    "        \"&timezone=America/Sao_Paulo\"\n",
    "    )\n",
    "    \n",
    "    resposta = requests.get(url).json()\n",
    "    \n",
    "    if \"hourly\" in resposta and \"time\" in resposta[\"hourly\"]:\n",
    "        df_meteo = pd.DataFrame({\n",
    "            \"time\": pd.to_datetime(resposta[\"hourly\"][\"time\"], errors=\"coerce\"),\n",
    "            \"precipitation\": resposta[\"hourly\"][\"precipitation\"],\n",
    "        })\n",
    "        df_meteo[\"regiao\"] = regiao\n",
    "        return df_meteo\n",
    "    else:\n",
    "        print(f\"⚠️ Sem dados para {regiao}-{ano}\")\n",
    "        return pd.DataFrame(columns=[\"time\",\"precipitation\",\"regiao\"])\n"
   ]
  },
  {
   "cell_type": "code",
   "execution_count": 5,
   "id": "e1aa53f9",
   "metadata": {},
   "outputs": [
    {
     "name": "stdout",
     "output_type": "stream",
     "text": [
      "                 time  precipitation  regiao\n",
      "0 2022-01-01 00:00:00            0.0  CENTRO\n",
      "1 2022-01-01 01:00:00            0.0  CENTRO\n",
      "2 2022-01-01 02:00:00            0.0  CENTRO\n",
      "3 2022-01-01 03:00:00            0.0  CENTRO\n",
      "4 2022-01-01 04:00:00            0.0  CENTRO\n",
      "8760\n"
     ]
    }
   ],
   "source": [
    "df_teste = chuva_regiao_ano(\"CENTRO\", -30.027, -51.220, 2022)\n",
    "print(df_teste.head())\n",
    "print(len(df_teste))\n"
   ]
  }
 ],
 "metadata": {
  "kernelspec": {
   "display_name": ".venv",
   "language": "python",
   "name": "python3"
  },
  "language_info": {
   "codemirror_mode": {
    "name": "ipython",
    "version": 3
   },
   "file_extension": ".py",
   "mimetype": "text/x-python",
   "name": "python",
   "nbconvert_exporter": "python",
   "pygments_lexer": "ipython3",
   "version": "3.12.11"
  }
 },
 "nbformat": 4,
 "nbformat_minor": 5
}
