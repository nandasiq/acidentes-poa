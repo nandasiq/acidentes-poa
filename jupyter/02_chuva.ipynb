{
 "cells": [
  {
   "cell_type": "markdown",
   "id": "94da7d86",
   "metadata": {},
   "source": [
    "# 02. Enriquecimento de Dados: chuva"
   ]
  },
  {
   "cell_type": "markdown",
   "id": "ec46e256",
   "metadata": {},
   "source": [
    "### 1. Bibliotecas e DataFrame"
   ]
  },
  {
   "cell_type": "code",
   "execution_count": 9,
   "id": "12f263a3",
   "metadata": {},
   "outputs": [],
   "source": [
    "from config import (\n",
    "    pd, np, os, salvar_parquet,\n",
    "    resumo_df, checar_nulos, coord,\n",
    "    anos, caminho_chuva, url\n",
    ")\n",
    "\n",
    "import openmeteo_requests\n",
    "import requests_cache\n",
    "import requests\n",
    "from retry_requests import retry\n",
    "import time\n",
    "\n",
    "df = pd.read_parquet(\"../dados/intermediarios/acidentes_tratado.parquet\")"
   ]
  },
  {
   "cell_type": "markdown",
   "id": "26568d4a",
   "metadata": {},
   "source": [
    "### 2. Configura API Open-Meteo com cache e retry em caso de erro "
   ]
  },
  {
   "cell_type": "code",
   "execution_count": 10,
   "id": "812cdbf3",
   "metadata": {},
   "outputs": [],
   "source": [
    "cache_session = requests_cache.CachedSession('.cache', expire_after = -1)\n",
    "retry_session = retry(cache_session, retries = 5, backoff_factor = 0.2)\n",
    "openmeteo = openmeteo_requests.Client(session = retry_session)"
   ]
  },
  {
   "cell_type": "markdown",
   "id": "ae43a259",
   "metadata": {},
   "source": [
    "### 3. Cria função para chamar API"
   ]
  },
  {
   "cell_type": "markdown",
   "id": "ec9d1e11",
   "metadata": {},
   "source": [
    "Função para coletar dados horários de precipitação de um ponto (lat/lon)\n",
    "para um determinado ano, salvando em formato parquet.\n",
    "\n",
    "Args:  \n",
    "* lat (float): Latitude\n",
    "* lon (float): Longitude\n",
    "* ano (int): Ano desejado\n",
    "* nome (str): Nome da região (ex.: NORTE)\n"
   ]
  },
  {
   "cell_type": "code",
   "execution_count": 11,
   "id": "cd91765e",
   "metadata": {},
   "outputs": [],
   "source": [
    "def dados_chuva(lat: float, lon: float, nome: str):\n",
    "   \n",
    "    os.makedirs(caminho_chuva, exist_ok=True)\n",
    "\n",
    "    for ano in anos:\n",
    "        params = {\n",
    "            \"latitude\": lat,\n",
    "            \"longitude\": lon,\n",
    "            \"start_date\": f\"{ano}-01-01\",\n",
    "            \"end_date\": f\"{ano}-12-31\",\n",
    "            \"hourly\": 'precipitation',\n",
    "            \"timezone\": 'America/Sao_Paulo'\n",
    "        }\n",
    "\n",
    "    responses = openmeteo.weather_api(url, params=params)\n",
    "    response = responses[0]\n",
    "    hourly = response.Hourly()\n",
    "\n",
    "    chuva_hora = hourly.Variables(0).ValuesAsNumpy()\n",
    "\n",
    "    df_chuva = pd.DataFrame({\n",
    "        \"date\": pd.date_range(\n",
    "            start=pd.to_datetime(hourly.Time(), unit=\"s\", utc=True),\n",
    "            end=pd.to_datetime(hourly.TimeEnd(), unit=\"s\", utc=True),\n",
    "            freq=pd.Timedelta(seconds=hourly.Interval()),\n",
    "            inclusive=\"left\"\n",
    "        ),\n",
    "        \"precipitation\": chuva_hora\n",
    "    })\n",
    "\n",
    "    nome_arquivo = f\"{caminho_chuva}chuva_{ano}_{nome.lower()}.parquet\"\n",
    "    df_chuva.to_parquet(nome_arquivo, index=False)\n",
    "    print(f\"✅ Arquivo salvo: {nome_arquivo}\")\n",
    "\n",
    "    return df_chuva"
   ]
  },
  {
   "cell_type": "markdown",
   "id": "6ad37edf",
   "metadata": {},
   "source": [
    "### 4. Chama API por região"
   ]
  },
  {
   "cell_type": "markdown",
   "id": "2e5c847f",
   "metadata": {},
   "source": [
    "#### 1. Norte"
   ]
  },
  {
   "cell_type": "code",
   "execution_count": 12,
   "id": "32739dfe",
   "metadata": {},
   "outputs": [
    {
     "name": "stdout",
     "output_type": "stream",
     "text": [
      "✅ Arquivo salvo: ../dados/intermediarios/clima/chuva_2024_norte.parquet\n"
     ]
    },
    {
     "data": {
      "application/vnd.microsoft.datawrangler.viewer.v0+json": {
       "columns": [
        {
         "name": "index",
         "rawType": "int64",
         "type": "integer"
        },
        {
         "name": "date",
         "rawType": "datetime64[ns, UTC]",
         "type": "unknown"
        },
        {
         "name": "precipitation",
         "rawType": "float32",
         "type": "float"
        }
       ],
       "ref": "95003567-ce97-4cbf-8d0c-0852f4687a73",
       "rows": [
        [
         "0",
         "2024-01-01 03:00:00+00:00",
         "0.0"
        ],
        [
         "1",
         "2024-01-01 04:00:00+00:00",
         "0.0"
        ],
        [
         "2",
         "2024-01-01 05:00:00+00:00",
         "0.0"
        ],
        [
         "3",
         "2024-01-01 06:00:00+00:00",
         "0.0"
        ],
        [
         "4",
         "2024-01-01 07:00:00+00:00",
         "0.0"
        ],
        [
         "5",
         "2024-01-01 08:00:00+00:00",
         "0.0"
        ],
        [
         "6",
         "2024-01-01 09:00:00+00:00",
         "0.0"
        ],
        [
         "7",
         "2024-01-01 10:00:00+00:00",
         "0.0"
        ],
        [
         "8",
         "2024-01-01 11:00:00+00:00",
         "0.0"
        ],
        [
         "9",
         "2024-01-01 12:00:00+00:00",
         "0.0"
        ],
        [
         "10",
         "2024-01-01 13:00:00+00:00",
         "0.0"
        ],
        [
         "11",
         "2024-01-01 14:00:00+00:00",
         "0.0"
        ],
        [
         "12",
         "2024-01-01 15:00:00+00:00",
         "0.0"
        ],
        [
         "13",
         "2024-01-01 16:00:00+00:00",
         "0.0"
        ],
        [
         "14",
         "2024-01-01 17:00:00+00:00",
         "0.0"
        ],
        [
         "15",
         "2024-01-01 18:00:00+00:00",
         "0.0"
        ],
        [
         "16",
         "2024-01-01 19:00:00+00:00",
         "0.0"
        ],
        [
         "17",
         "2024-01-01 20:00:00+00:00",
         "0.0"
        ],
        [
         "18",
         "2024-01-01 21:00:00+00:00",
         "0.0"
        ],
        [
         "19",
         "2024-01-01 22:00:00+00:00",
         "0.0"
        ],
        [
         "20",
         "2024-01-01 23:00:00+00:00",
         "0.0"
        ],
        [
         "21",
         "2024-01-02 00:00:00+00:00",
         "0.0"
        ],
        [
         "22",
         "2024-01-02 01:00:00+00:00",
         "0.0"
        ],
        [
         "23",
         "2024-01-02 02:00:00+00:00",
         "0.0"
        ],
        [
         "24",
         "2024-01-02 03:00:00+00:00",
         "0.0"
        ],
        [
         "25",
         "2024-01-02 04:00:00+00:00",
         "0.0"
        ],
        [
         "26",
         "2024-01-02 05:00:00+00:00",
         "0.0"
        ],
        [
         "27",
         "2024-01-02 06:00:00+00:00",
         "0.0"
        ],
        [
         "28",
         "2024-01-02 07:00:00+00:00",
         "0.0"
        ],
        [
         "29",
         "2024-01-02 08:00:00+00:00",
         "0.0"
        ],
        [
         "30",
         "2024-01-02 09:00:00+00:00",
         "0.0"
        ],
        [
         "31",
         "2024-01-02 10:00:00+00:00",
         "1.3"
        ],
        [
         "32",
         "2024-01-02 11:00:00+00:00",
         "0.1"
        ],
        [
         "33",
         "2024-01-02 12:00:00+00:00",
         "0.0"
        ],
        [
         "34",
         "2024-01-02 13:00:00+00:00",
         "0.6"
        ],
        [
         "35",
         "2024-01-02 14:00:00+00:00",
         "2.2"
        ],
        [
         "36",
         "2024-01-02 15:00:00+00:00",
         "3.2"
        ],
        [
         "37",
         "2024-01-02 16:00:00+00:00",
         "0.3"
        ],
        [
         "38",
         "2024-01-02 17:00:00+00:00",
         "1.1"
        ],
        [
         "39",
         "2024-01-02 18:00:00+00:00",
         "3.3"
        ],
        [
         "40",
         "2024-01-02 19:00:00+00:00",
         "2.5"
        ],
        [
         "41",
         "2024-01-02 20:00:00+00:00",
         "1.3"
        ],
        [
         "42",
         "2024-01-02 21:00:00+00:00",
         "0.5"
        ],
        [
         "43",
         "2024-01-02 22:00:00+00:00",
         "0.0"
        ],
        [
         "44",
         "2024-01-02 23:00:00+00:00",
         "0.0"
        ],
        [
         "45",
         "2024-01-03 00:00:00+00:00",
         "0.0"
        ],
        [
         "46",
         "2024-01-03 01:00:00+00:00",
         "0.0"
        ],
        [
         "47",
         "2024-01-03 02:00:00+00:00",
         "0.0"
        ],
        [
         "48",
         "2024-01-03 03:00:00+00:00",
         "0.0"
        ],
        [
         "49",
         "2024-01-03 04:00:00+00:00",
         "0.0"
        ]
       ],
       "shape": {
        "columns": 2,
        "rows": 8784
       }
      },
      "text/html": [
       "<div>\n",
       "<style scoped>\n",
       "    .dataframe tbody tr th:only-of-type {\n",
       "        vertical-align: middle;\n",
       "    }\n",
       "\n",
       "    .dataframe tbody tr th {\n",
       "        vertical-align: top;\n",
       "    }\n",
       "\n",
       "    .dataframe thead th {\n",
       "        text-align: right;\n",
       "    }\n",
       "</style>\n",
       "<table border=\"1\" class=\"dataframe\">\n",
       "  <thead>\n",
       "    <tr style=\"text-align: right;\">\n",
       "      <th></th>\n",
       "      <th>date</th>\n",
       "      <th>precipitation</th>\n",
       "    </tr>\n",
       "  </thead>\n",
       "  <tbody>\n",
       "    <tr>\n",
       "      <th>0</th>\n",
       "      <td>2024-01-01 03:00:00+00:00</td>\n",
       "      <td>0.00</td>\n",
       "    </tr>\n",
       "    <tr>\n",
       "      <th>1</th>\n",
       "      <td>2024-01-01 04:00:00+00:00</td>\n",
       "      <td>0.00</td>\n",
       "    </tr>\n",
       "    <tr>\n",
       "      <th>2</th>\n",
       "      <td>2024-01-01 05:00:00+00:00</td>\n",
       "      <td>0.00</td>\n",
       "    </tr>\n",
       "    <tr>\n",
       "      <th>3</th>\n",
       "      <td>2024-01-01 06:00:00+00:00</td>\n",
       "      <td>0.00</td>\n",
       "    </tr>\n",
       "    <tr>\n",
       "      <th>4</th>\n",
       "      <td>2024-01-01 07:00:00+00:00</td>\n",
       "      <td>0.00</td>\n",
       "    </tr>\n",
       "    <tr>\n",
       "      <th>...</th>\n",
       "      <td>...</td>\n",
       "      <td>...</td>\n",
       "    </tr>\n",
       "    <tr>\n",
       "      <th>8779</th>\n",
       "      <td>2024-12-31 22:00:00+00:00</td>\n",
       "      <td>0.00</td>\n",
       "    </tr>\n",
       "    <tr>\n",
       "      <th>8780</th>\n",
       "      <td>2024-12-31 23:00:00+00:00</td>\n",
       "      <td>0.00</td>\n",
       "    </tr>\n",
       "    <tr>\n",
       "      <th>8781</th>\n",
       "      <td>2025-01-01 00:00:00+00:00</td>\n",
       "      <td>0.00</td>\n",
       "    </tr>\n",
       "    <tr>\n",
       "      <th>8782</th>\n",
       "      <td>2025-01-01 01:00:00+00:00</td>\n",
       "      <td>0.00</td>\n",
       "    </tr>\n",
       "    <tr>\n",
       "      <th>8783</th>\n",
       "      <td>2025-01-01 02:00:00+00:00</td>\n",
       "      <td>0.00</td>\n",
       "    </tr>\n",
       "  </tbody>\n",
       "</table>\n",
       "<p>8784 rows × 2 columns</p>\n",
       "</div>"
      ],
      "text/plain": [
       "                          date  precipitation\n",
       "0    2024-01-01 03:00:00+00:00           0.00\n",
       "1    2024-01-01 04:00:00+00:00           0.00\n",
       "2    2024-01-01 05:00:00+00:00           0.00\n",
       "3    2024-01-01 06:00:00+00:00           0.00\n",
       "4    2024-01-01 07:00:00+00:00           0.00\n",
       "...                        ...            ...\n",
       "8779 2024-12-31 22:00:00+00:00           0.00\n",
       "8780 2024-12-31 23:00:00+00:00           0.00\n",
       "8781 2025-01-01 00:00:00+00:00           0.00\n",
       "8782 2025-01-01 01:00:00+00:00           0.00\n",
       "8783 2025-01-01 02:00:00+00:00           0.00\n",
       "\n",
       "[8784 rows x 2 columns]"
      ]
     },
     "execution_count": 12,
     "metadata": {},
     "output_type": "execute_result"
    }
   ],
   "source": [
    "lat, lon = coord[\"NORTE\"]\n",
    "dados_chuva(lat, lon, \"NORTE\")\n"
   ]
  },
  {
   "cell_type": "markdown",
   "id": "7f35760c",
   "metadata": {},
   "source": [
    "#### 2. Leste"
   ]
  },
  {
   "cell_type": "markdown",
   "id": "e42dc108",
   "metadata": {},
   "source": [
    "#### 3. Centro"
   ]
  },
  {
   "cell_type": "markdown",
   "id": "2c816ed7",
   "metadata": {},
   "source": [
    "#### 4. Sul"
   ]
  },
  {
   "cell_type": "code",
   "execution_count": null,
   "id": "e78e3b26",
   "metadata": {},
   "outputs": [
    {
     "name": "stdout",
     "output_type": "stream",
     "text": [
      "Coordinates: -30.125°N -51.25°E\n",
      "Elevation: 46.0 m asl\n",
      "Timezone: b'America/Sao_Paulo'b'GMT-3'\n",
      "Timezone difference to GMT+0: -10800s\n",
      "\n",
      "Hourly data\n",
      "                           date  precipitation\n",
      "0    2022-01-01 03:00:00+00:00           0.00\n",
      "1    2022-01-01 04:00:00+00:00           0.00\n",
      "2    2022-01-01 05:00:00+00:00           0.00\n",
      "3    2022-01-01 06:00:00+00:00           0.00\n",
      "4    2022-01-01 07:00:00+00:00           0.00\n",
      "...                        ...            ...\n",
      "8755 2022-12-31 22:00:00+00:00           0.00\n",
      "8756 2022-12-31 23:00:00+00:00           0.00\n",
      "8757 2023-01-01 00:00:00+00:00           0.00\n",
      "8758 2023-01-01 01:00:00+00:00           0.00\n",
      "8759 2023-01-01 02:00:00+00:00           0.00\n",
      "\n",
      "[8760 rows x 2 columns]\n"
     ]
    },
    {
     "data": {
      "application/vnd.microsoft.datawrangler.viewer.v0+json": {
       "columns": [
        {
         "name": "index",
         "rawType": "int64",
         "type": "integer"
        },
        {
         "name": "date",
         "rawType": "datetime64[ns, UTC]",
         "type": "unknown"
        },
        {
         "name": "precipitation",
         "rawType": "float32",
         "type": "float"
        }
       ],
       "ref": "09fe27c5-35f2-444a-a8d3-34a4f2472be6",
       "rows": [
        [
         "8710",
         "2022-12-30 01:00:00+00:00",
         "0.0"
        ],
        [
         "8711",
         "2022-12-30 02:00:00+00:00",
         "0.0"
        ],
        [
         "8712",
         "2022-12-30 03:00:00+00:00",
         "0.0"
        ],
        [
         "8713",
         "2022-12-30 04:00:00+00:00",
         "0.0"
        ],
        [
         "8714",
         "2022-12-30 05:00:00+00:00",
         "0.0"
        ],
        [
         "8715",
         "2022-12-30 06:00:00+00:00",
         "0.0"
        ],
        [
         "8716",
         "2022-12-30 07:00:00+00:00",
         "0.0"
        ],
        [
         "8717",
         "2022-12-30 08:00:00+00:00",
         "0.0"
        ],
        [
         "8718",
         "2022-12-30 09:00:00+00:00",
         "0.0"
        ],
        [
         "8719",
         "2022-12-30 10:00:00+00:00",
         "0.0"
        ],
        [
         "8720",
         "2022-12-30 11:00:00+00:00",
         "0.0"
        ],
        [
         "8721",
         "2022-12-30 12:00:00+00:00",
         "0.0"
        ],
        [
         "8722",
         "2022-12-30 13:00:00+00:00",
         "0.0"
        ],
        [
         "8723",
         "2022-12-30 14:00:00+00:00",
         "0.0"
        ],
        [
         "8724",
         "2022-12-30 15:00:00+00:00",
         "0.0"
        ],
        [
         "8725",
         "2022-12-30 16:00:00+00:00",
         "0.0"
        ],
        [
         "8726",
         "2022-12-30 17:00:00+00:00",
         "0.0"
        ],
        [
         "8727",
         "2022-12-30 18:00:00+00:00",
         "0.0"
        ],
        [
         "8728",
         "2022-12-30 19:00:00+00:00",
         "0.0"
        ],
        [
         "8729",
         "2022-12-30 20:00:00+00:00",
         "0.0"
        ],
        [
         "8730",
         "2022-12-30 21:00:00+00:00",
         "0.0"
        ],
        [
         "8731",
         "2022-12-30 22:00:00+00:00",
         "0.0"
        ],
        [
         "8732",
         "2022-12-30 23:00:00+00:00",
         "0.0"
        ],
        [
         "8733",
         "2022-12-31 00:00:00+00:00",
         "0.0"
        ],
        [
         "8734",
         "2022-12-31 01:00:00+00:00",
         "0.0"
        ],
        [
         "8735",
         "2022-12-31 02:00:00+00:00",
         "0.0"
        ],
        [
         "8736",
         "2022-12-31 03:00:00+00:00",
         "0.0"
        ],
        [
         "8737",
         "2022-12-31 04:00:00+00:00",
         "0.0"
        ],
        [
         "8738",
         "2022-12-31 05:00:00+00:00",
         "0.0"
        ],
        [
         "8739",
         "2022-12-31 06:00:00+00:00",
         "0.0"
        ],
        [
         "8740",
         "2022-12-31 07:00:00+00:00",
         "0.0"
        ],
        [
         "8741",
         "2022-12-31 08:00:00+00:00",
         "0.0"
        ],
        [
         "8742",
         "2022-12-31 09:00:00+00:00",
         "0.0"
        ],
        [
         "8743",
         "2022-12-31 10:00:00+00:00",
         "0.0"
        ],
        [
         "8744",
         "2022-12-31 11:00:00+00:00",
         "0.0"
        ],
        [
         "8745",
         "2022-12-31 12:00:00+00:00",
         "0.0"
        ],
        [
         "8746",
         "2022-12-31 13:00:00+00:00",
         "0.0"
        ],
        [
         "8747",
         "2022-12-31 14:00:00+00:00",
         "0.0"
        ],
        [
         "8748",
         "2022-12-31 15:00:00+00:00",
         "0.0"
        ],
        [
         "8749",
         "2022-12-31 16:00:00+00:00",
         "0.0"
        ],
        [
         "8750",
         "2022-12-31 17:00:00+00:00",
         "0.0"
        ],
        [
         "8751",
         "2022-12-31 18:00:00+00:00",
         "0.0"
        ],
        [
         "8752",
         "2022-12-31 19:00:00+00:00",
         "0.0"
        ],
        [
         "8753",
         "2022-12-31 20:00:00+00:00",
         "0.0"
        ],
        [
         "8754",
         "2022-12-31 21:00:00+00:00",
         "0.0"
        ],
        [
         "8755",
         "2022-12-31 22:00:00+00:00",
         "0.0"
        ],
        [
         "8756",
         "2022-12-31 23:00:00+00:00",
         "0.0"
        ],
        [
         "8757",
         "2023-01-01 00:00:00+00:00",
         "0.0"
        ],
        [
         "8758",
         "2023-01-01 01:00:00+00:00",
         "0.0"
        ],
        [
         "8759",
         "2023-01-01 02:00:00+00:00",
         "0.0"
        ]
       ],
       "shape": {
        "columns": 2,
        "rows": 50
       }
      },
      "text/html": [
       "<div>\n",
       "<style scoped>\n",
       "    .dataframe tbody tr th:only-of-type {\n",
       "        vertical-align: middle;\n",
       "    }\n",
       "\n",
       "    .dataframe tbody tr th {\n",
       "        vertical-align: top;\n",
       "    }\n",
       "\n",
       "    .dataframe thead th {\n",
       "        text-align: right;\n",
       "    }\n",
       "</style>\n",
       "<table border=\"1\" class=\"dataframe\">\n",
       "  <thead>\n",
       "    <tr style=\"text-align: right;\">\n",
       "      <th></th>\n",
       "      <th>date</th>\n",
       "      <th>precipitation</th>\n",
       "    </tr>\n",
       "  </thead>\n",
       "  <tbody>\n",
       "    <tr>\n",
       "      <th>8710</th>\n",
       "      <td>2022-12-30 01:00:00+00:00</td>\n",
       "      <td>0.00</td>\n",
       "    </tr>\n",
       "    <tr>\n",
       "      <th>8711</th>\n",
       "      <td>2022-12-30 02:00:00+00:00</td>\n",
       "      <td>0.00</td>\n",
       "    </tr>\n",
       "    <tr>\n",
       "      <th>8712</th>\n",
       "      <td>2022-12-30 03:00:00+00:00</td>\n",
       "      <td>0.00</td>\n",
       "    </tr>\n",
       "    <tr>\n",
       "      <th>8713</th>\n",
       "      <td>2022-12-30 04:00:00+00:00</td>\n",
       "      <td>0.00</td>\n",
       "    </tr>\n",
       "    <tr>\n",
       "      <th>8714</th>\n",
       "      <td>2022-12-30 05:00:00+00:00</td>\n",
       "      <td>0.00</td>\n",
       "    </tr>\n",
       "    <tr>\n",
       "      <th>8715</th>\n",
       "      <td>2022-12-30 06:00:00+00:00</td>\n",
       "      <td>0.00</td>\n",
       "    </tr>\n",
       "    <tr>\n",
       "      <th>8716</th>\n",
       "      <td>2022-12-30 07:00:00+00:00</td>\n",
       "      <td>0.00</td>\n",
       "    </tr>\n",
       "    <tr>\n",
       "      <th>8717</th>\n",
       "      <td>2022-12-30 08:00:00+00:00</td>\n",
       "      <td>0.00</td>\n",
       "    </tr>\n",
       "    <tr>\n",
       "      <th>8718</th>\n",
       "      <td>2022-12-30 09:00:00+00:00</td>\n",
       "      <td>0.00</td>\n",
       "    </tr>\n",
       "    <tr>\n",
       "      <th>8719</th>\n",
       "      <td>2022-12-30 10:00:00+00:00</td>\n",
       "      <td>0.00</td>\n",
       "    </tr>\n",
       "    <tr>\n",
       "      <th>8720</th>\n",
       "      <td>2022-12-30 11:00:00+00:00</td>\n",
       "      <td>0.00</td>\n",
       "    </tr>\n",
       "    <tr>\n",
       "      <th>8721</th>\n",
       "      <td>2022-12-30 12:00:00+00:00</td>\n",
       "      <td>0.00</td>\n",
       "    </tr>\n",
       "    <tr>\n",
       "      <th>8722</th>\n",
       "      <td>2022-12-30 13:00:00+00:00</td>\n",
       "      <td>0.00</td>\n",
       "    </tr>\n",
       "    <tr>\n",
       "      <th>8723</th>\n",
       "      <td>2022-12-30 14:00:00+00:00</td>\n",
       "      <td>0.00</td>\n",
       "    </tr>\n",
       "    <tr>\n",
       "      <th>8724</th>\n",
       "      <td>2022-12-30 15:00:00+00:00</td>\n",
       "      <td>0.00</td>\n",
       "    </tr>\n",
       "    <tr>\n",
       "      <th>8725</th>\n",
       "      <td>2022-12-30 16:00:00+00:00</td>\n",
       "      <td>0.00</td>\n",
       "    </tr>\n",
       "    <tr>\n",
       "      <th>8726</th>\n",
       "      <td>2022-12-30 17:00:00+00:00</td>\n",
       "      <td>0.00</td>\n",
       "    </tr>\n",
       "    <tr>\n",
       "      <th>8727</th>\n",
       "      <td>2022-12-30 18:00:00+00:00</td>\n",
       "      <td>0.00</td>\n",
       "    </tr>\n",
       "    <tr>\n",
       "      <th>8728</th>\n",
       "      <td>2022-12-30 19:00:00+00:00</td>\n",
       "      <td>0.00</td>\n",
       "    </tr>\n",
       "    <tr>\n",
       "      <th>8729</th>\n",
       "      <td>2022-12-30 20:00:00+00:00</td>\n",
       "      <td>0.00</td>\n",
       "    </tr>\n",
       "    <tr>\n",
       "      <th>8730</th>\n",
       "      <td>2022-12-30 21:00:00+00:00</td>\n",
       "      <td>0.00</td>\n",
       "    </tr>\n",
       "    <tr>\n",
       "      <th>8731</th>\n",
       "      <td>2022-12-30 22:00:00+00:00</td>\n",
       "      <td>0.00</td>\n",
       "    </tr>\n",
       "    <tr>\n",
       "      <th>8732</th>\n",
       "      <td>2022-12-30 23:00:00+00:00</td>\n",
       "      <td>0.00</td>\n",
       "    </tr>\n",
       "    <tr>\n",
       "      <th>8733</th>\n",
       "      <td>2022-12-31 00:00:00+00:00</td>\n",
       "      <td>0.00</td>\n",
       "    </tr>\n",
       "    <tr>\n",
       "      <th>8734</th>\n",
       "      <td>2022-12-31 01:00:00+00:00</td>\n",
       "      <td>0.00</td>\n",
       "    </tr>\n",
       "    <tr>\n",
       "      <th>8735</th>\n",
       "      <td>2022-12-31 02:00:00+00:00</td>\n",
       "      <td>0.00</td>\n",
       "    </tr>\n",
       "    <tr>\n",
       "      <th>8736</th>\n",
       "      <td>2022-12-31 03:00:00+00:00</td>\n",
       "      <td>0.00</td>\n",
       "    </tr>\n",
       "    <tr>\n",
       "      <th>8737</th>\n",
       "      <td>2022-12-31 04:00:00+00:00</td>\n",
       "      <td>0.00</td>\n",
       "    </tr>\n",
       "    <tr>\n",
       "      <th>8738</th>\n",
       "      <td>2022-12-31 05:00:00+00:00</td>\n",
       "      <td>0.00</td>\n",
       "    </tr>\n",
       "    <tr>\n",
       "      <th>8739</th>\n",
       "      <td>2022-12-31 06:00:00+00:00</td>\n",
       "      <td>0.00</td>\n",
       "    </tr>\n",
       "    <tr>\n",
       "      <th>8740</th>\n",
       "      <td>2022-12-31 07:00:00+00:00</td>\n",
       "      <td>0.00</td>\n",
       "    </tr>\n",
       "    <tr>\n",
       "      <th>8741</th>\n",
       "      <td>2022-12-31 08:00:00+00:00</td>\n",
       "      <td>0.00</td>\n",
       "    </tr>\n",
       "    <tr>\n",
       "      <th>8742</th>\n",
       "      <td>2022-12-31 09:00:00+00:00</td>\n",
       "      <td>0.00</td>\n",
       "    </tr>\n",
       "    <tr>\n",
       "      <th>8743</th>\n",
       "      <td>2022-12-31 10:00:00+00:00</td>\n",
       "      <td>0.00</td>\n",
       "    </tr>\n",
       "    <tr>\n",
       "      <th>8744</th>\n",
       "      <td>2022-12-31 11:00:00+00:00</td>\n",
       "      <td>0.00</td>\n",
       "    </tr>\n",
       "    <tr>\n",
       "      <th>8745</th>\n",
       "      <td>2022-12-31 12:00:00+00:00</td>\n",
       "      <td>0.00</td>\n",
       "    </tr>\n",
       "    <tr>\n",
       "      <th>8746</th>\n",
       "      <td>2022-12-31 13:00:00+00:00</td>\n",
       "      <td>0.00</td>\n",
       "    </tr>\n",
       "    <tr>\n",
       "      <th>8747</th>\n",
       "      <td>2022-12-31 14:00:00+00:00</td>\n",
       "      <td>0.00</td>\n",
       "    </tr>\n",
       "    <tr>\n",
       "      <th>8748</th>\n",
       "      <td>2022-12-31 15:00:00+00:00</td>\n",
       "      <td>0.00</td>\n",
       "    </tr>\n",
       "    <tr>\n",
       "      <th>8749</th>\n",
       "      <td>2022-12-31 16:00:00+00:00</td>\n",
       "      <td>0.00</td>\n",
       "    </tr>\n",
       "    <tr>\n",
       "      <th>8750</th>\n",
       "      <td>2022-12-31 17:00:00+00:00</td>\n",
       "      <td>0.00</td>\n",
       "    </tr>\n",
       "    <tr>\n",
       "      <th>8751</th>\n",
       "      <td>2022-12-31 18:00:00+00:00</td>\n",
       "      <td>0.00</td>\n",
       "    </tr>\n",
       "    <tr>\n",
       "      <th>8752</th>\n",
       "      <td>2022-12-31 19:00:00+00:00</td>\n",
       "      <td>0.00</td>\n",
       "    </tr>\n",
       "    <tr>\n",
       "      <th>8753</th>\n",
       "      <td>2022-12-31 20:00:00+00:00</td>\n",
       "      <td>0.00</td>\n",
       "    </tr>\n",
       "    <tr>\n",
       "      <th>8754</th>\n",
       "      <td>2022-12-31 21:00:00+00:00</td>\n",
       "      <td>0.00</td>\n",
       "    </tr>\n",
       "    <tr>\n",
       "      <th>8755</th>\n",
       "      <td>2022-12-31 22:00:00+00:00</td>\n",
       "      <td>0.00</td>\n",
       "    </tr>\n",
       "    <tr>\n",
       "      <th>8756</th>\n",
       "      <td>2022-12-31 23:00:00+00:00</td>\n",
       "      <td>0.00</td>\n",
       "    </tr>\n",
       "    <tr>\n",
       "      <th>8757</th>\n",
       "      <td>2023-01-01 00:00:00+00:00</td>\n",
       "      <td>0.00</td>\n",
       "    </tr>\n",
       "    <tr>\n",
       "      <th>8758</th>\n",
       "      <td>2023-01-01 01:00:00+00:00</td>\n",
       "      <td>0.00</td>\n",
       "    </tr>\n",
       "    <tr>\n",
       "      <th>8759</th>\n",
       "      <td>2023-01-01 02:00:00+00:00</td>\n",
       "      <td>0.00</td>\n",
       "    </tr>\n",
       "  </tbody>\n",
       "</table>\n",
       "</div>"
      ],
      "text/plain": [
       "                          date  precipitation\n",
       "8710 2022-12-30 01:00:00+00:00           0.00\n",
       "8711 2022-12-30 02:00:00+00:00           0.00\n",
       "8712 2022-12-30 03:00:00+00:00           0.00\n",
       "8713 2022-12-30 04:00:00+00:00           0.00\n",
       "8714 2022-12-30 05:00:00+00:00           0.00\n",
       "8715 2022-12-30 06:00:00+00:00           0.00\n",
       "8716 2022-12-30 07:00:00+00:00           0.00\n",
       "8717 2022-12-30 08:00:00+00:00           0.00\n",
       "8718 2022-12-30 09:00:00+00:00           0.00\n",
       "8719 2022-12-30 10:00:00+00:00           0.00\n",
       "8720 2022-12-30 11:00:00+00:00           0.00\n",
       "8721 2022-12-30 12:00:00+00:00           0.00\n",
       "8722 2022-12-30 13:00:00+00:00           0.00\n",
       "8723 2022-12-30 14:00:00+00:00           0.00\n",
       "8724 2022-12-30 15:00:00+00:00           0.00\n",
       "8725 2022-12-30 16:00:00+00:00           0.00\n",
       "8726 2022-12-30 17:00:00+00:00           0.00\n",
       "8727 2022-12-30 18:00:00+00:00           0.00\n",
       "8728 2022-12-30 19:00:00+00:00           0.00\n",
       "8729 2022-12-30 20:00:00+00:00           0.00\n",
       "8730 2022-12-30 21:00:00+00:00           0.00\n",
       "8731 2022-12-30 22:00:00+00:00           0.00\n",
       "8732 2022-12-30 23:00:00+00:00           0.00\n",
       "8733 2022-12-31 00:00:00+00:00           0.00\n",
       "8734 2022-12-31 01:00:00+00:00           0.00\n",
       "8735 2022-12-31 02:00:00+00:00           0.00\n",
       "8736 2022-12-31 03:00:00+00:00           0.00\n",
       "8737 2022-12-31 04:00:00+00:00           0.00\n",
       "8738 2022-12-31 05:00:00+00:00           0.00\n",
       "8739 2022-12-31 06:00:00+00:00           0.00\n",
       "8740 2022-12-31 07:00:00+00:00           0.00\n",
       "8741 2022-12-31 08:00:00+00:00           0.00\n",
       "8742 2022-12-31 09:00:00+00:00           0.00\n",
       "8743 2022-12-31 10:00:00+00:00           0.00\n",
       "8744 2022-12-31 11:00:00+00:00           0.00\n",
       "8745 2022-12-31 12:00:00+00:00           0.00\n",
       "8746 2022-12-31 13:00:00+00:00           0.00\n",
       "8747 2022-12-31 14:00:00+00:00           0.00\n",
       "8748 2022-12-31 15:00:00+00:00           0.00\n",
       "8749 2022-12-31 16:00:00+00:00           0.00\n",
       "8750 2022-12-31 17:00:00+00:00           0.00\n",
       "8751 2022-12-31 18:00:00+00:00           0.00\n",
       "8752 2022-12-31 19:00:00+00:00           0.00\n",
       "8753 2022-12-31 20:00:00+00:00           0.00\n",
       "8754 2022-12-31 21:00:00+00:00           0.00\n",
       "8755 2022-12-31 22:00:00+00:00           0.00\n",
       "8756 2022-12-31 23:00:00+00:00           0.00\n",
       "8757 2023-01-01 00:00:00+00:00           0.00\n",
       "8758 2023-01-01 01:00:00+00:00           0.00\n",
       "8759 2023-01-01 02:00:00+00:00           0.00"
      ]
     },
     "execution_count": 3,
     "metadata": {},
     "output_type": "execute_result"
    }
   ],
   "source": [
    "\n",
    "# Make sure all required weather variables are listed here\n",
    "# The order of variables in hourly or daily is important to assign them correctly below\n",
    "url = \"https://historical-forecast-api.open-meteo.com/v1/forecast\"\n",
    "\n",
    "params = {\n",
    "\t\"latitude\": lat,\n",
    "\t\"longitude\": long,\n",
    "\t\"start_date\": f\"{ano}-01-01\",\n",
    "    \"end_date\": f\"{ano}-12-31\",\n",
    "\t\"hourly\": \"precipitation\",\n",
    "\t\"timezone\": \"America/Sao_Paulo\",\n",
    "}\n",
    "responses = openmeteo.weather_api(url, params=params)\n",
    "\n",
    "# Process first location. Add a for-loop for multiple locations or weather models\n",
    "response = responses[0]\n",
    "print(f\"Coordinates: {response.Latitude()}°N {response.Longitude()}°E\")\n",
    "print(f\"Elevation: {response.Elevation()} m asl\")\n",
    "print(f\"Timezone: {response.Timezone()}{response.TimezoneAbbreviation()}\")\n",
    "print(f\"Timezone difference to GMT+0: {response.UtcOffsetSeconds()}s\")\n",
    "\n",
    "# Process hourly data. The order of variables needs to be the same as requested.\n",
    "hourly = response.Hourly()\n",
    "hourly_precipitation = hourly.Variables(0).ValuesAsNumpy()\n",
    "\n",
    "hourly_data = {\"date\": pd.date_range(\n",
    "\tstart = pd.to_datetime(hourly.Time(), unit = \"s\", utc = True),\n",
    "\tend = pd.to_datetime(hourly.TimeEnd(), unit = \"s\", utc = True),\n",
    "\tfreq = pd.Timedelta(seconds = hourly.Interval()),\n",
    "\tinclusive = \"left\"\n",
    ")}\n",
    "\n",
    "hourly_data[\"precipitation\"] = hourly_precipitation\n",
    "\n",
    "hourly_dataframe = pd.DataFrame(data = hourly_data)\n",
    "print(\"\\nHourly data\\n\", hourly_dataframe)\n",
    "hourly_dataframe.head(50)\n",
    "hourly_dataframe.tail(50)"
   ]
  },
  {
   "cell_type": "code",
   "execution_count": 28,
   "id": "e432b17c",
   "metadata": {},
   "outputs": [
    {
     "name": "stdout",
     "output_type": "stream",
     "text": [
      "<class 'pandas.core.frame.DataFrame'>\n",
      "Index: 24 entries, 2205 to 2228\n",
      "Data columns (total 2 columns):\n",
      " #   Column         Non-Null Count  Dtype              \n",
      "---  ------         --------------  -----              \n",
      " 0   date           24 non-null     datetime64[ns, UTC]\n",
      " 1   precipitation  24 non-null     float32            \n",
      "dtypes: datetime64[ns, UTC](1), float32(1)\n",
      "memory usage: 480.0 bytes\n",
      "                          date  precipitation\n",
      "2205 2022-04-03 00:00:00+00:00            0.0\n",
      "2206 2022-04-03 01:00:00+00:00            0.0\n",
      "2207 2022-04-03 02:00:00+00:00            0.0\n",
      "2208 2022-04-03 03:00:00+00:00            0.0\n",
      "2209 2022-04-03 04:00:00+00:00            0.0\n",
      "2210 2022-04-03 05:00:00+00:00            0.0\n",
      "2211 2022-04-03 06:00:00+00:00            0.0\n",
      "2212 2022-04-03 07:00:00+00:00            0.0\n",
      "2213 2022-04-03 08:00:00+00:00            0.0\n",
      "2214 2022-04-03 09:00:00+00:00            0.0\n",
      "2215 2022-04-03 10:00:00+00:00            0.0\n",
      "2216 2022-04-03 11:00:00+00:00            0.0\n",
      "2217 2022-04-03 12:00:00+00:00            0.0\n",
      "2218 2022-04-03 13:00:00+00:00            0.2\n",
      "2219 2022-04-03 14:00:00+00:00            6.4\n",
      "2220 2022-04-03 15:00:00+00:00           10.2\n",
      "2221 2022-04-03 16:00:00+00:00           12.0\n",
      "2222 2022-04-03 17:00:00+00:00            5.5\n",
      "2223 2022-04-03 18:00:00+00:00            2.7\n",
      "2224 2022-04-03 19:00:00+00:00            2.0\n",
      "2225 2022-04-03 20:00:00+00:00           12.3\n",
      "2226 2022-04-03 21:00:00+00:00            8.4\n",
      "2227 2022-04-03 22:00:00+00:00            3.1\n",
      "2228 2022-04-03 23:00:00+00:00            3.0\n"
     ]
    }
   ],
   "source": [
    "dia = pd.to_datetime('2022-04-03').date()\n",
    "busca = hourly_dataframe[hourly_dataframe['date'].dt.date == dia]\n",
    "\n",
    "busca.info()\n",
    "print(busca.head(25))"
   ]
  }
 ],
 "metadata": {
  "kernelspec": {
   "display_name": ".venv",
   "language": "python",
   "name": "python3"
  },
  "language_info": {
   "codemirror_mode": {
    "name": "ipython",
    "version": 3
   },
   "file_extension": ".py",
   "mimetype": "text/x-python",
   "name": "python",
   "nbconvert_exporter": "python",
   "pygments_lexer": "ipython3",
   "version": "3.12.11"
  }
 },
 "nbformat": 4,
 "nbformat_minor": 5
}
