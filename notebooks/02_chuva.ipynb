{
 "cells": [
  {
   "cell_type": "markdown",
   "id": "94da7d86",
   "metadata": {},
   "source": [
    "# 02. Enriquecimento de Dados: chuva"
   ]
  },
  {
   "cell_type": "markdown",
   "id": "ec46e256",
   "metadata": {},
   "source": [
    "### 1. Bibliotecas e DataFrame"
   ]
  },
  {
   "cell_type": "code",
   "execution_count": 14,
   "id": "12f263a3",
   "metadata": {},
   "outputs": [],
   "source": [
    "from config import (\n",
    "    pd, np, os, salvar_parquet,\n",
    "    resumo_df, checar_nulos, coord,\n",
    "    anos, caminho_chuva, url\n",
    ")\n",
    "\n",
    "import openmeteo_requests\n",
    "import requests_cache\n",
    "import requests\n",
    "from retry_requests import retry\n",
    "import time\n",
    "\n",
    "df = pd.read_parquet(\"../dados/intermediarios/df_limpo.parquet\")"
   ]
  },
  {
   "cell_type": "markdown",
   "id": "26568d4a",
   "metadata": {},
   "source": [
    "### 2. Configura API Open-Meteo com cache e retry em caso de erro "
   ]
  },
  {
   "cell_type": "code",
   "execution_count": 8,
   "id": "812cdbf3",
   "metadata": {},
   "outputs": [],
   "source": [
    "cache_session = requests_cache.CachedSession('.cache', expire_after = -1)\n",
    "retry_session = retry(cache_session, retries = 5, backoff_factor = 0.2)\n",
    "openmeteo = openmeteo_requests.Client(session = retry_session)"
   ]
  },
  {
   "cell_type": "markdown",
   "id": "ae43a259",
   "metadata": {},
   "source": [
    "### 3. Cria função para chamar API"
   ]
  },
  {
   "cell_type": "markdown",
   "id": "ec9d1e11",
   "metadata": {},
   "source": [
    "Função para coletar dados horários de precipitação de um ponto (lat/lon)\n",
    "para um determinado ano, salvando em formato parquet.\n",
    "\n",
    "Args:  \n",
    "* lat (float): Latitude\n",
    "* lon (float): Longitude\n",
    "* nome (str): Nome da região (ex.: NORTE)\n"
   ]
  },
  {
   "cell_type": "code",
   "execution_count": 15,
   "id": "cd91765e",
   "metadata": {},
   "outputs": [],
   "source": [
    "def dados_chuva(lat: float, lon: float, nome: str):\n",
    "   \n",
    "    os.makedirs(caminho_chuva, exist_ok=True)\n",
    "\n",
    "    for ano in anos:\n",
    "        params = {\n",
    "            \"latitude\": lat,\n",
    "            \"longitude\": lon,\n",
    "            \"start_date\": f\"{ano}-01-01\",\n",
    "            \"end_date\": f\"{ano}-12-31\",\n",
    "            \"hourly\": 'precipitation',\n",
    "            \"timezone\": 'America/Sao_Paulo'\n",
    "        }\n",
    "\n",
    "        responses = openmeteo.weather_api(url, params=params)\n",
    "        response = responses[0]\n",
    "        hourly = response.Hourly()\n",
    "\n",
    "        chuva_hora = hourly.Variables(0).ValuesAsNumpy()\n",
    "\n",
    "        df_chuva = pd.DataFrame({\n",
    "            \"date\": pd.date_range(\n",
    "                start=pd.to_datetime(hourly.Time(), unit=\"s\", utc=True),\n",
    "                end=pd.to_datetime(hourly.TimeEnd(), unit=\"s\", utc=True),\n",
    "                freq=pd.Timedelta(seconds=hourly.Interval()),\n",
    "                inclusive=\"left\"\n",
    "            ),\n",
    "            \"precipitation\": chuva_hora\n",
    "        })\n",
    "\n",
    "        nome_arquivo = f\"{caminho_chuva}{nome.lower()}_{ano}.parquet\"\n",
    "        salvar_parquet(df_chuva, nome_arquivo)\n",
    "    return df_chuva"
   ]
  },
  {
   "cell_type": "markdown",
   "id": "6ad37edf",
   "metadata": {},
   "source": [
    "### 4. Chama API por região"
   ]
  },
  {
   "cell_type": "markdown",
   "id": "2e5c847f",
   "metadata": {},
   "source": [
    "#### 1. Norte"
   ]
  },
  {
   "cell_type": "code",
   "execution_count": null,
   "id": "32739dfe",
   "metadata": {},
   "outputs": [
    {
     "name": "stdout",
     "output_type": "stream",
     "text": [
      "Percentual de valores nulos por coluna (%):\n"
     ]
    },
    {
     "data": {
      "text/plain": [
       "date            0.00\n",
       "precipitation   0.00\n",
       "dtype: float64"
      ]
     },
     "execution_count": 18,
     "metadata": {},
     "output_type": "execute_result"
    }
   ],
   "source": [
    "lat, lon = coord[\"NORTE\"]\n",
    "dados_chuva(lat, lon, \"NORTE\")\n",
    "\n",
    "# Confere df\n",
    "# df_teste = pd.read_parquet(f\"{caminho_chuva}norte_2021.parquet\")\n",
    "# resumo_df(df_teste)\n",
    "# checar_nulos(df_teste)"
   ]
  },
  {
   "cell_type": "markdown",
   "id": "7f35760c",
   "metadata": {},
   "source": [
    "#### 2. Leste"
   ]
  },
  {
   "cell_type": "code",
   "execution_count": null,
   "id": "1da150ae",
   "metadata": {},
   "outputs": [
    {
     "name": "stdout",
     "output_type": "stream",
     "text": [
      "Salvo: ../dados/intermediarios/clima/leste_2020.parquet\n",
      "Salvo: ../dados/intermediarios/clima/leste_2021.parquet\n",
      "Salvo: ../dados/intermediarios/clima/leste_2022.parquet\n",
      "Salvo: ../dados/intermediarios/clima/leste_2023.parquet\n",
      "Salvo: ../dados/intermediarios/clima/leste_2024.parquet\n",
      "Dimensões: (8760, 2)\n",
      "\n",
      "Tipos de dados:\n",
      "date             datetime64[ns, UTC]\n",
      "precipitation                float32\n",
      "dtype: object\n",
      "\n",
      "Nulos por coluna:\n",
      "date             0\n",
      "precipitation    0\n",
      "dtype: int64\n"
     ]
    },
    {
     "data": {
      "text/html": [
       "<div>\n",
       "<style scoped>\n",
       "    .dataframe tbody tr th:only-of-type {\n",
       "        vertical-align: middle;\n",
       "    }\n",
       "\n",
       "    .dataframe tbody tr th {\n",
       "        vertical-align: top;\n",
       "    }\n",
       "\n",
       "    .dataframe thead th {\n",
       "        text-align: right;\n",
       "    }\n",
       "</style>\n",
       "<table border=\"1\" class=\"dataframe\">\n",
       "  <thead>\n",
       "    <tr style=\"text-align: right;\">\n",
       "      <th></th>\n",
       "      <th>date</th>\n",
       "      <th>precipitation</th>\n",
       "    </tr>\n",
       "  </thead>\n",
       "  <tbody>\n",
       "    <tr>\n",
       "      <th>0</th>\n",
       "      <td>2021-01-01 03:00:00+00:00</td>\n",
       "      <td>0.00</td>\n",
       "    </tr>\n",
       "    <tr>\n",
       "      <th>1</th>\n",
       "      <td>2021-01-01 04:00:00+00:00</td>\n",
       "      <td>0.00</td>\n",
       "    </tr>\n",
       "    <tr>\n",
       "      <th>2</th>\n",
       "      <td>2021-01-01 05:00:00+00:00</td>\n",
       "      <td>0.00</td>\n",
       "    </tr>\n",
       "    <tr>\n",
       "      <th>3</th>\n",
       "      <td>2021-01-01 06:00:00+00:00</td>\n",
       "      <td>0.00</td>\n",
       "    </tr>\n",
       "    <tr>\n",
       "      <th>4</th>\n",
       "      <td>2021-01-01 07:00:00+00:00</td>\n",
       "      <td>0.00</td>\n",
       "    </tr>\n",
       "  </tbody>\n",
       "</table>\n",
       "</div>"
      ],
      "text/plain": [
       "                       date  precipitation\n",
       "0 2021-01-01 03:00:00+00:00           0.00\n",
       "1 2021-01-01 04:00:00+00:00           0.00\n",
       "2 2021-01-01 05:00:00+00:00           0.00\n",
       "3 2021-01-01 06:00:00+00:00           0.00\n",
       "4 2021-01-01 07:00:00+00:00           0.00"
      ]
     },
     "metadata": {},
     "output_type": "display_data"
    },
    {
     "name": "stdout",
     "output_type": "stream",
     "text": [
      "Percentual de valores nulos por coluna (%):\n"
     ]
    },
    {
     "data": {
      "text/plain": [
       "date            0.00\n",
       "precipitation   0.00\n",
       "dtype: float64"
      ]
     },
     "execution_count": 11,
     "metadata": {},
     "output_type": "execute_result"
    }
   ],
   "source": [
    "lat, lon = coord[\"LESTE\"]\n",
    "dados_chuva(lat, lon, \"LESTE\")\n",
    "\n",
    "# Confere df\n",
    "# df_teste = pd.read_parquet(f\"{caminho_chuva}leste_2021.parquet\")\n",
    "# resumo_df(df_teste)\n",
    "# checar_nulos(df_teste)"
   ]
  },
  {
   "cell_type": "markdown",
   "id": "e42dc108",
   "metadata": {},
   "source": [
    "#### 3. Centro"
   ]
  },
  {
   "cell_type": "code",
   "execution_count": null,
   "id": "7d3a2466",
   "metadata": {},
   "outputs": [
    {
     "name": "stdout",
     "output_type": "stream",
     "text": [
      "Salvo: ../dados/intermediarios/clima/centro_2020.parquet\n",
      "Salvo: ../dados/intermediarios/clima/centro_2021.parquet\n",
      "Salvo: ../dados/intermediarios/clima/centro_2022.parquet\n",
      "Salvo: ../dados/intermediarios/clima/centro_2023.parquet\n",
      "Salvo: ../dados/intermediarios/clima/centro_2024.parquet\n",
      "Dimensões: (8760, 2)\n",
      "\n",
      "Tipos de dados:\n",
      "date             datetime64[ns, UTC]\n",
      "precipitation                float32\n",
      "dtype: object\n",
      "\n",
      "Nulos por coluna:\n",
      "date             0\n",
      "precipitation    0\n",
      "dtype: int64\n"
     ]
    },
    {
     "data": {
      "text/html": [
       "<div>\n",
       "<style scoped>\n",
       "    .dataframe tbody tr th:only-of-type {\n",
       "        vertical-align: middle;\n",
       "    }\n",
       "\n",
       "    .dataframe tbody tr th {\n",
       "        vertical-align: top;\n",
       "    }\n",
       "\n",
       "    .dataframe thead th {\n",
       "        text-align: right;\n",
       "    }\n",
       "</style>\n",
       "<table border=\"1\" class=\"dataframe\">\n",
       "  <thead>\n",
       "    <tr style=\"text-align: right;\">\n",
       "      <th></th>\n",
       "      <th>date</th>\n",
       "      <th>precipitation</th>\n",
       "    </tr>\n",
       "  </thead>\n",
       "  <tbody>\n",
       "    <tr>\n",
       "      <th>0</th>\n",
       "      <td>2021-01-01 03:00:00+00:00</td>\n",
       "      <td>0.00</td>\n",
       "    </tr>\n",
       "    <tr>\n",
       "      <th>1</th>\n",
       "      <td>2021-01-01 04:00:00+00:00</td>\n",
       "      <td>0.00</td>\n",
       "    </tr>\n",
       "    <tr>\n",
       "      <th>2</th>\n",
       "      <td>2021-01-01 05:00:00+00:00</td>\n",
       "      <td>0.00</td>\n",
       "    </tr>\n",
       "    <tr>\n",
       "      <th>3</th>\n",
       "      <td>2021-01-01 06:00:00+00:00</td>\n",
       "      <td>0.00</td>\n",
       "    </tr>\n",
       "    <tr>\n",
       "      <th>4</th>\n",
       "      <td>2021-01-01 07:00:00+00:00</td>\n",
       "      <td>0.00</td>\n",
       "    </tr>\n",
       "  </tbody>\n",
       "</table>\n",
       "</div>"
      ],
      "text/plain": [
       "                       date  precipitation\n",
       "0 2021-01-01 03:00:00+00:00           0.00\n",
       "1 2021-01-01 04:00:00+00:00           0.00\n",
       "2 2021-01-01 05:00:00+00:00           0.00\n",
       "3 2021-01-01 06:00:00+00:00           0.00\n",
       "4 2021-01-01 07:00:00+00:00           0.00"
      ]
     },
     "metadata": {},
     "output_type": "display_data"
    },
    {
     "name": "stdout",
     "output_type": "stream",
     "text": [
      "Percentual de valores nulos por coluna (%):\n"
     ]
    },
    {
     "data": {
      "text/plain": [
       "date            0.00\n",
       "precipitation   0.00\n",
       "dtype: float64"
      ]
     },
     "execution_count": 12,
     "metadata": {},
     "output_type": "execute_result"
    }
   ],
   "source": [
    "lat, lon = coord[\"CENTRO\"]\n",
    "dados_chuva(lat, lon, \"CENTRO\")\n",
    "\n",
    "# Confere df\n",
    "# df_teste = pd.read_parquet(f\"{caminho_chuva}centro_2021.parquet\")\n",
    "# resumo_df(df_teste)\n",
    "# checar_nulos(df_teste)"
   ]
  },
  {
   "cell_type": "markdown",
   "id": "2c816ed7",
   "metadata": {},
   "source": [
    "#### 4. Sul"
   ]
  },
  {
   "cell_type": "code",
   "execution_count": null,
   "id": "ccbebc4e",
   "metadata": {},
   "outputs": [
    {
     "name": "stdout",
     "output_type": "stream",
     "text": [
      "Salvo: ../dados/intermediarios/clima/sul_2020.parquet\n",
      "Salvo: ../dados/intermediarios/clima/sul_2021.parquet\n",
      "Salvo: ../dados/intermediarios/clima/sul_2022.parquet\n",
      "Salvo: ../dados/intermediarios/clima/sul_2023.parquet\n",
      "Salvo: ../dados/intermediarios/clima/sul_2024.parquet\n",
      "Dimensões: (8760, 2)\n",
      "\n",
      "Tipos de dados:\n",
      "date             datetime64[ns, UTC]\n",
      "precipitation                float32\n",
      "dtype: object\n",
      "\n",
      "Nulos por coluna:\n",
      "date             0\n",
      "precipitation    0\n",
      "dtype: int64\n"
     ]
    },
    {
     "data": {
      "text/html": [
       "<div>\n",
       "<style scoped>\n",
       "    .dataframe tbody tr th:only-of-type {\n",
       "        vertical-align: middle;\n",
       "    }\n",
       "\n",
       "    .dataframe tbody tr th {\n",
       "        vertical-align: top;\n",
       "    }\n",
       "\n",
       "    .dataframe thead th {\n",
       "        text-align: right;\n",
       "    }\n",
       "</style>\n",
       "<table border=\"1\" class=\"dataframe\">\n",
       "  <thead>\n",
       "    <tr style=\"text-align: right;\">\n",
       "      <th></th>\n",
       "      <th>date</th>\n",
       "      <th>precipitation</th>\n",
       "    </tr>\n",
       "  </thead>\n",
       "  <tbody>\n",
       "    <tr>\n",
       "      <th>0</th>\n",
       "      <td>2021-01-01 03:00:00+00:00</td>\n",
       "      <td>0.00</td>\n",
       "    </tr>\n",
       "    <tr>\n",
       "      <th>1</th>\n",
       "      <td>2021-01-01 04:00:00+00:00</td>\n",
       "      <td>0.00</td>\n",
       "    </tr>\n",
       "    <tr>\n",
       "      <th>2</th>\n",
       "      <td>2021-01-01 05:00:00+00:00</td>\n",
       "      <td>0.00</td>\n",
       "    </tr>\n",
       "    <tr>\n",
       "      <th>3</th>\n",
       "      <td>2021-01-01 06:00:00+00:00</td>\n",
       "      <td>0.00</td>\n",
       "    </tr>\n",
       "    <tr>\n",
       "      <th>4</th>\n",
       "      <td>2021-01-01 07:00:00+00:00</td>\n",
       "      <td>0.00</td>\n",
       "    </tr>\n",
       "  </tbody>\n",
       "</table>\n",
       "</div>"
      ],
      "text/plain": [
       "                       date  precipitation\n",
       "0 2021-01-01 03:00:00+00:00           0.00\n",
       "1 2021-01-01 04:00:00+00:00           0.00\n",
       "2 2021-01-01 05:00:00+00:00           0.00\n",
       "3 2021-01-01 06:00:00+00:00           0.00\n",
       "4 2021-01-01 07:00:00+00:00           0.00"
      ]
     },
     "metadata": {},
     "output_type": "display_data"
    },
    {
     "name": "stdout",
     "output_type": "stream",
     "text": [
      "Percentual de valores nulos por coluna (%):\n"
     ]
    },
    {
     "data": {
      "text/plain": [
       "date            0.00\n",
       "precipitation   0.00\n",
       "dtype: float64"
      ]
     },
     "execution_count": 13,
     "metadata": {},
     "output_type": "execute_result"
    }
   ],
   "source": [
    "lat, lon = coord[\"SUL\"]\n",
    "dados_chuva(lat, lon, \"SUL\")\n",
    "\n",
    "# Confere df\n",
    "# df_teste = pd.read_parquet(f\"{caminho_chuva}sul_2021.parquet\")\n",
    "# resumo_df(df_teste)\n",
    "# checar_nulos(df_teste)"
   ]
  }
 ],
 "metadata": {
  "kernelspec": {
   "display_name": ".venv",
   "language": "python",
   "name": "python3"
  },
  "language_info": {
   "codemirror_mode": {
    "name": "ipython",
    "version": 3
   },
   "file_extension": ".py",
   "mimetype": "text/x-python",
   "name": "python",
   "nbconvert_exporter": "python",
   "pygments_lexer": "ipython3",
   "version": "3.12.11"
  }
 },
 "nbformat": 4,
 "nbformat_minor": 5
}
