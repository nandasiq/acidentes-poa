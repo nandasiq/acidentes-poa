{
 "cells": [
  {
   "cell_type": "markdown",
   "id": "e2caf0e6",
   "metadata": {},
   "source": [
    "# 04 - Modelagem Preditiva\n",
    "Autora: Fernanda Baptista de Siqueira  \n",
    "Curso: MBA em Tecnologia para Negócios – AI, Data Science e Big Data  \n",
    "Tema: Análise de Acidentes de Trânsito em Porto Alegre (2020–2024)  \n",
    "Origem DataFrame: Equipe Armazém de Dados de Mobilidade - EAMOB/CIET  \n",
    "https://dadosabertos.poa.br/dataset/acidentes-de-transito-acidentes (11/05/2025)  "
   ]
  },
  {
   "cell_type": "markdown",
   "id": "d7e3a2b2",
   "metadata": {},
   "source": [
    "### 1. Importa bibliotecas e funções"
   ]
  },
  {
   "cell_type": "code",
   "execution_count": null,
   "id": "31cd15eb",
   "metadata": {},
   "outputs": [],
   "source": [
    "from config import (\n",
    "    pd, sns, plt, train_test_split, \n",
    "    classification_report, confusion_matrix,\n",
    "    roc_auc_score, resumo_df,\n",
    "    RocCurveDisplay, StandardScaler,\n",
    "    PATH_CLEAN\n",
    ")"
   ]
  },
  {
   "cell_type": "markdown",
   "id": "f78ed5a7",
   "metadata": {},
   "source": [
    "01. Carrega dados tratados e checa"
   ]
  },
  {
   "cell_type": "code",
   "execution_count": null,
   "id": "efe865b9",
   "metadata": {},
   "outputs": [],
   "source": [
    "df = pd.read_parquet(PATH_CLEAN + \"df_20_24_chuva.parquet\")\n",
    "resumo_df(df)"
   ]
  },
  {
   "cell_type": "markdown",
   "id": "7717bc49",
   "metadata": {},
   "source": [
    "02. Define problema modelagem\n",
    "* Alvo: acidentes com vitmas, ou gravidade\n",
    "* Preditores: dados temporais, regionais, meteorológicos, cols_veiculos"
   ]
  },
  {
   "cell_type": "markdown",
   "id": "05a692be",
   "metadata": {},
   "source": [
    "03. Pré processamento\n",
    "* seleção de features\n",
    "* balanceamento (SMOTE, undersampling)\n",
    "* normalização"
   ]
  },
  {
   "cell_type": "markdown",
   "id": "3f39c7d8",
   "metadata": {},
   "source": [
    "4. Modelos candidatos\n",
    "* Classificação: Regressão Logística, Random Forest, XGBoost\n",
    "* Series Temporais: SARIMA, Prophet"
   ]
  },
  {
   "cell_type": "markdown",
   "id": "3a64acc2",
   "metadata": {},
   "source": [
    "5. Treinamento e validação\n",
    "* Separação treino/teste\n",
    "* Treinar modelos, guardar métricas (accuracy, recall, AUC)\n",
    "* Comparar modelos"
   ]
  },
  {
   "cell_type": "markdown",
   "id": "be28d95b",
   "metadata": {},
   "source": [
    "6. Interpretação\n",
    "* Importância das variáveis (ex.: feature_importances_ da Random Forest)\n",
    "* Gráficos de desempenho (ROC, matriz de confusão)"
   ]
  },
  {
   "cell_type": "markdown",
   "id": "5ecaac0b",
   "metadata": {},
   "source": [
    "7. Previsão para 2025\n",
    "* Usar o modelo escolhido para prever\n",
    "* Comparar com dados reais de 2025 quando disponíveis."
   ]
  }
 ],
 "metadata": {
  "kernelspec": {
   "display_name": ".venv",
   "language": "python",
   "name": "python3"
  },
  "language_info": {
   "codemirror_mode": {
    "name": "ipython",
    "version": 3
   },
   "file_extension": ".py",
   "mimetype": "text/x-python",
   "name": "python",
   "nbconvert_exporter": "python",
   "pygments_lexer": "ipython3",
   "version": "3.12.11"
  }
 },
 "nbformat": 4,
 "nbformat_minor": 5
}
