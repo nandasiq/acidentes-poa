{
 "cells": [
  {
   "cell_type": "markdown",
   "id": "e2caf0e6",
   "metadata": {},
   "source": [
    "# 04 - Modelagem Preditiva\n",
    "Autora: Fernanda Baptista de Siqueira  \n",
    "Curso: MBA em Tecnologia para Negócios – AI, Data Science e Big Data  \n",
    "Tema: Análise de Acidentes de Trânsito em Porto Alegre (2020–2024)  \n",
    "Origem DataFrame: Equipe Armazém de Dados de Mobilidade - EAMOB/CIET  \n",
    "https://dadosabertos.poa.br/dataset/acidentes-de-transito-acidentes (11/05/2025)  "
   ]
  },
  {
   "cell_type": "markdown",
   "id": "d7e3a2b2",
   "metadata": {},
   "source": [
    "### 1. Importa bibliotecas e funções. Carrega dados"
   ]
  },
  {
   "cell_type": "code",
   "execution_count": 1,
   "id": "31cd15eb",
   "metadata": {},
   "outputs": [
    {
     "ename": "ImportError",
     "evalue": "cannot import name 'SAMIRAX' from 'config' (/workspaces/acidentes-poa/notebooks/config.py)",
     "output_type": "error",
     "traceback": [
      "\u001b[31m---------------------------------------------------------------------------\u001b[39m",
      "\u001b[31mImportError\u001b[39m                               Traceback (most recent call last)",
      "\u001b[36mCell\u001b[39m\u001b[36m \u001b[39m\u001b[32mIn[1]\u001b[39m\u001b[32m, line 1\u001b[39m\n\u001b[32m----> \u001b[39m\u001b[32m1\u001b[39m \u001b[38;5;28;01mfrom\u001b[39;00m\u001b[38;5;250m \u001b[39m\u001b[34;01mconfig\u001b[39;00m\u001b[38;5;250m \u001b[39m\u001b[38;5;28;01mimport\u001b[39;00m (\n\u001b[32m      2\u001b[39m     pd, sns, plt, train_test_split, \n\u001b[32m      3\u001b[39m     classification_report, confusion_matrix,\n\u001b[32m      4\u001b[39m     roc_auc_score, resumo_df,\n\u001b[32m      5\u001b[39m     RocCurveDisplay, StandardScaler, RandomForestClassifier,\n\u001b[32m      6\u001b[39m     OneHotEncoder, ColumnTransformer, Pipeline, SimpleImputer,\n\u001b[32m      7\u001b[39m     SMOTE, LogisticRegression, XGBClassifier, classification_report,\n\u001b[32m      8\u001b[39m     confusion_matrix, Pipeline, SAMIRAX,    \n\u001b[32m      9\u001b[39m     PATH_CLEAN, COLS_VEICULOS\n\u001b[32m     10\u001b[39m )\n\u001b[32m     12\u001b[39m df = pd.read_parquet(PATH_CLEAN + \u001b[33m\"\u001b[39m\u001b[33mdf_limpo_chuva.parquet\u001b[39m\u001b[33m\"\u001b[39m)\n",
      "\u001b[31mImportError\u001b[39m: cannot import name 'SAMIRAX' from 'config' (/workspaces/acidentes-poa/notebooks/config.py)"
     ]
    }
   ],
   "source": [
    "from config import (\n",
    "    pd, sns, plt, train_test_split, \n",
    "    classification_report, confusion_matrix,\n",
    "    roc_auc_score, resumo_df,\n",
    "    RocCurveDisplay, StandardScaler, RandomForestClassifier,\n",
    "    OneHotEncoder, ColumnTransformer, Pipeline, SimpleImputer,\n",
    "    SMOTE, LogisticRegression, XGBClassifier, classification_report,\n",
    "    confusion_matrix, Pipeline, SAMIRAX,    \n",
    "    PATH_CLEAN, COLS_VEICULOS\n",
    ")\n",
    "\n",
    "df = pd.read_parquet(PATH_CLEAN + \"df_limpo_chuva.parquet\")"
   ]
  },
  {
   "cell_type": "markdown",
   "id": "8a256c7d",
   "metadata": {},
   "source": [
    "### 2. Checa dados. Divide treino e validação"
   ]
  },
  {
   "cell_type": "code",
   "execution_count": null,
   "id": "efe865b9",
   "metadata": {},
   "outputs": [],
   "source": [
    "resumo_df(df)\n",
    "\n",
    "df_treino = df[df[\"data\"] < \"2025-01-01\"]\n",
    "df_valid = df[df[\"data\"] >= \"2025-01-01\"]\n",
    "print(resumo_df(df_treino))\n"
   ]
  },
  {
   "cell_type": "markdown",
   "id": "8f701333",
   "metadata": {},
   "source": [
    "### 3. Define variável alvo e features"
   ]
  },
  {
   "cell_type": "code",
   "execution_count": null,
   "id": "0ae48c89",
   "metadata": {},
   "outputs": [],
   "source": [
    "# Alvo: acidentes com vítimas (binário)\n",
    "target = \"cont_vit\"\n",
    "\n",
    "# Features: categóricas + veículos + clima\n",
    "features = [\n",
    "    \"regiao\", \"dia_sem\", \"noite_dia\", \"tipo_acid\",\n",
    "    \"hora\", \"mes\", \"chuva_hora\", \"chovendo\"\n",
    "] + COLS_VEICULOS\n",
    "\n",
    "X_train, y_train = df_treino[features], df_treino[target]\n",
    "X_valid, y_valid = df_valid[features], df_valid[target]\n"
   ]
  },
  {
   "cell_type": "markdown",
   "id": "7717bc49",
   "metadata": {},
   "source": [
    "02. Define problema modelagem\n",
    "* Alvo: acidentes com vitmas, ou gravidade\n",
    "* Preditores: dados temporais, regionais, meteorológicos, cols_veiculos"
   ]
  },
  {
   "cell_type": "markdown",
   "id": "315b2b7b",
   "metadata": {},
   "source": [
    "### 4. Pré-processamento"
   ]
  },
  {
   "cell_type": "code",
   "execution_count": null,
   "id": "85d5483f",
   "metadata": {},
   "outputs": [],
   "source": [
    "# Separar colunas\n",
    "cat_cols = [\"regiao\", \"dia_sem\", \"noite_dia\", \"tipo_acid\"]\n",
    "num_cols = [\"hora\", \"mes\", \"chuva_hora\", \"chovendo\"] + cols_veiculos\n",
    "\n",
    "# Pré-processamento\n",
    "categorical_transformer = Pipeline(steps=[\n",
    "    (\"imputer\", SimpleImputer(strategy=\"most_frequent\")),\n",
    "    (\"onehot\", OneHotEncoder(handle_unknown=\"ignore\"))\n",
    "])\n",
    "numeric_transformer = Pipeline(steps=[\n",
    "    (\"imputer\", SimpleImputer(strategy=\"median\"))\n",
    "])\n",
    "\n",
    "preprocessor = ColumnTransformer(\n",
    "    transformers=[\n",
    "        (\"categorical\", categorical_transformer, cat_cols),\n",
    "        (\"numeric\", numeric_transformer, num_cols)\n",
    "    ]\n",
    ")"
   ]
  },
  {
   "cell_type": "markdown",
   "id": "05a692be",
   "metadata": {},
   "source": [
    "03. Pré processamento\n",
    "* seleção de features\n",
    "* balanceamento (SMOTE, undersampling)\n",
    "* normalização"
   ]
  },
  {
   "cell_type": "markdown",
   "id": "3f39c7d8",
   "metadata": {},
   "source": [
    "4. Modelos candidatos\n",
    "* Classificação: Regressão Logística, Random Forest, XGBoost\n",
    "* Series Temporais: SARIMA, Prophet"
   ]
  },
  {
   "cell_type": "markdown",
   "id": "3a64acc2",
   "metadata": {},
   "source": [
    "5. Treinamento e validação\n",
    "* Separação treino/teste\n",
    "* Treinar modelos, guardar métricas (accuracy, recall, AUC)\n",
    "* Comparar modelos"
   ]
  },
  {
   "cell_type": "markdown",
   "id": "be28d95b",
   "metadata": {},
   "source": [
    "6. Interpretação\n",
    "* Importância das variáveis (ex.: feature_importances_ da Random Forest)\n",
    "* Gráficos de desempenho (ROC, matriz de confusão)"
   ]
  },
  {
   "cell_type": "markdown",
   "id": "5ecaac0b",
   "metadata": {},
   "source": [
    "7. Previsão para 2025\n",
    "* Usar o modelo escolhido para prever\n",
    "* Comparar com dados reais de 2025 quando disponíveis."
   ]
  }
 ],
 "metadata": {
  "kernelspec": {
   "display_name": ".venv",
   "language": "python",
   "name": "python3"
  },
  "language_info": {
   "codemirror_mode": {
    "name": "ipython",
    "version": 3
   },
   "file_extension": ".py",
   "mimetype": "text/x-python",
   "name": "python",
   "nbconvert_exporter": "python",
   "pygments_lexer": "ipython3",
   "version": "3.12.11"
  }
 },
 "nbformat": 4,
 "nbformat_minor": 5
}
