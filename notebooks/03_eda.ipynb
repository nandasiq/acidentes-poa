{
 "cells": [
  {
   "cell_type": "markdown",
   "id": "a87d3e51",
   "metadata": {},
   "source": [
    "# 03 - Análise de Dados Exploratória (EDA)\n",
    "Autora: Fernanda Baptista de Siqueira  \n",
    "Curso: MBA em Tecnologia para Negócios – AI, Data Science e Big Data  \n",
    "Tema: Análise de Acidentes de Trânsito em Porto Alegre (2020–2024)  \n",
    "Origem DataFrame: Equipe Armazém de Dados de Mobilidade - EAMOB/CIET  \n",
    "https://dadosabertos.poa.br/dataset/acidentes-de-transito-acidentes (11/05/2025)  "
   ]
  },
  {
   "cell_type": "markdown",
   "id": "48f2dc14",
   "metadata": {},
   "source": [
    "### 1. Importa bibliotecas, funções e Dataset"
   ]
  },
  {
   "cell_type": "code",
   "execution_count": 1,
   "id": "ce9005ed",
   "metadata": {},
   "outputs": [],
   "source": [
    "from config import (\n",
    "    pd, np, plt, sns, graf_heatmap,\n",
    "    graf_contagem, graf_crosstab, \n",
    "    graf_temporal, ordenar_dias_semana,\n",
    "    proporcao_por_veiculo, evolucao_veiculos,\n",
    "    PATH_CLEAN\n",
    ")\n",
    "df = pd.read_parquet(PATH_CLEAN + 'df_20_24_chuva.parquet')"
   ]
  },
  {
   "cell_type": "markdown",
   "id": "3cd62e75",
   "metadata": {},
   "source": [
    "### 2. Visualização do Dados\n",
    "1) Temporal"
   ]
  },
  {
   "cell_type": "code",
   "execution_count": null,
   "id": "e57db969",
   "metadata": {},
   "outputs": [],
   "source": [
    "# Sazonalidade mensal\n",
    "graf_temporal(df, \"data\", \"idacidente\", freq=\"M\", titulo=\"Sazonalidade mensal de acidentes (2020–2024)\")\n",
    "\n",
    "# Dias da semana\n",
    "df = ordenar_dias_semana(df, \"dia_sem\")\n",
    "graf_contagem(df, \"dia_sem\", \"Distribuição de acidentes por dia da semana\", rotacao=45, ordenar=\"indice\")\n",
    "\n",
    "# Horário do dia\n",
    "graf_contagem(df, \"hora_int\", \"Distribuição de acidentes por hora do dia\", ordenar=\"indice\")\n",
    "\n"
   ]
  },
  {
   "cell_type": "markdown",
   "id": "f7b6bd75",
   "metadata": {},
   "source": [
    "2. Tipo de Acidentes"
   ]
  },
  {
   "cell_type": "code",
   "execution_count": null,
   "id": "32d728cc",
   "metadata": {},
   "outputs": [],
   "source": [
    "# Tipos de acidente mais recorrentes\n",
    "graf_contagem(df, \"tipo_acid\", \"Top 10 tipos de acidentes mais recorrentes\", rotacao=90, top=10, ordenar=\"valor\")\n",
    "\n",
    "# Veículos mais envolvidos\n",
    "cols_veic = [\"auto\",\"moto\",\"onibus_urb\",\"caminhao\",\"bicicleta\"]\n",
    "df[cols_veic].sum().sort_values(ascending=False).plot(kind=\"bar\", figsize=(8,5))\n",
    "plt.title(\"Veículos mais frequentemente envolvidos\")\n",
    "plt.show()\n",
    "\n",
    "# Veículos com maior número de vítimas\n",
    "proporcao_por_veiculo(df, cols_veic, alvo=\"feridos\", titulo=\"Proporção de acidentes com feridos por veículo\")\n"
   ]
  },
  {
   "cell_type": "markdown",
   "id": "3182ae91",
   "metadata": {},
   "source": [
    "3. Localização"
   ]
  },
  {
   "cell_type": "code",
   "execution_count": null,
   "id": "e174d3fd",
   "metadata": {},
   "outputs": [],
   "source": [
    "# Acidentes por região\n",
    "graf_contagem(df, \"regiao\", \"Acidentes por região\")\n",
    "\n",
    "# Hotspots (top 10 logradouros)\n",
    "graf_contagem(df, \"log1\", \"Top 10 logradouros com mais acidentes\", rotacao=90, top=10)"
   ]
  },
  {
   "cell_type": "markdown",
   "id": "65f81645",
   "metadata": {},
   "source": [
    "4. Condições Externas"
   ]
  },
  {
   "cell_type": "code",
   "execution_count": null,
   "id": "edcde2f5",
   "metadata": {},
   "outputs": [],
   "source": [
    "# Acidentes em dias de chuva\n",
    "graf_crosstab(df, \"chovendo\", \"regiao\", \"Acidentes em dias de chuva por região\")\n",
    "\n",
    "# Turno diurno x noturno\n",
    "graf_contagem(df, \"noite_dia\", \"Comparação de acidentes entre turnos\")\n",
    "\n",
    "# Severidade por turno\n",
    "graf_crosstab(df, \"noite_dia\", \"cont_vit\", \"Severidade de acidentes por turno\")\n"
   ]
  },
  {
   "cell_type": "markdown",
   "id": "528fe13e",
   "metadata": {},
   "source": [
    "5. Envolvidos"
   ]
  },
  {
   "cell_type": "code",
   "execution_count": null,
   "id": "b9dedaf3",
   "metadata": {},
   "outputs": [],
   "source": [
    "# Proporção de feridos por veículo\n",
    "proporcao_por_veiculo(df, cols_veic, alvo=\"feridos\", titulo=\"Proporção de feridos por veículo\")\n",
    "\n",
    "# Tendência de crescimento ao longo do período\n",
    "evolucao_veiculos(df, cols_veic, titulo=\"Evolução anual de acidentes por veículo\")\n"
   ]
  },
  {
   "cell_type": "markdown",
   "id": "94c2f374",
   "metadata": {},
   "source": [
    "6. Severidade"
   ]
  },
  {
   "cell_type": "code",
   "execution_count": null,
   "id": "cbfba9f3",
   "metadata": {},
   "outputs": [],
   "source": [
    "# Nível geral de gravidade\n",
    "df[[\"feridos\",\"feridos_gr\",\"fatais\"]].sum()\n",
    "\n",
    "# Veículos mais associados a ocorrências graves\n",
    "proporcao_por_veiculo(df, cols_veic, alvo=\"feridos_gr\", titulo=\"Proporção de acidentes com feridos graves por veículo\")\n",
    "\n",
    "# Veículos e tipos de acidentes mais fatais\n",
    "proporcao_por_veiculo(df, cols_veic, alvo=\"fatais\", titulo=\"Proporção de acidentes fatais por veículo\")\n",
    "\n",
    "# Mostrar apenas os 10 tipos mais fatais, em gráfico horizontal\n",
    "graf_crosstab(df, \"tipo_acid\", \"fatais\", \"Top 10 tipos de acidentes mais fatais\",\n",
    "              empilhado=True, horizontal=True, top=10)\n"
   ]
  }
 ],
 "metadata": {
  "kernelspec": {
   "display_name": ".venv",
   "language": "python",
   "name": "python3"
  },
  "language_info": {
   "codemirror_mode": {
    "name": "ipython",
    "version": 3
   },
   "file_extension": ".py",
   "mimetype": "text/x-python",
   "name": "python",
   "nbconvert_exporter": "python",
   "pygments_lexer": "ipython3",
   "version": "3.12.11"
  }
 },
 "nbformat": 4,
 "nbformat_minor": 5
}
