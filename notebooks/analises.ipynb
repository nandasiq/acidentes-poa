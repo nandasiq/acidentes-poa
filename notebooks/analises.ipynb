{
 "cells": [
  {
   "cell_type": "markdown",
   "id": "ea8bfd06",
   "metadata": {},
   "source": [
    "### Caderno para testes rápidos\n"
   ]
  },
  {
   "cell_type": "code",
   "execution_count": 2,
   "id": "c1dca2e0",
   "metadata": {},
   "outputs": [],
   "source": [
    "# CARREGAR BIBLIOTECAS\n",
    "from config import (\n",
    "    pd, resumo_df, checar_nulos,\n",
    "    salvar_parquet, PATH_RAW,\n",
    "    PATH_CLEAN, COLS_VEICULOS\n",
    ")\n"
   ]
  },
  {
   "cell_type": "code",
   "execution_count": 4,
   "id": "d82a7d8f",
   "metadata": {},
   "outputs": [],
   "source": [
    "df = pd.read_parquet(f'{PATH_CLEAN}df_limpo_chuva.parquet')\n",
    "\n",
    "df.to_csv(f'{PATH_CLEAN}df_limpo_chuva.csv', index=False) \n"
   ]
  }
 ],
 "metadata": {
  "kernelspec": {
   "display_name": ".venv",
   "language": "python",
   "name": "python3"
  },
  "language_info": {
   "codemirror_mode": {
    "name": "ipython",
    "version": 3
   },
   "file_extension": ".py",
   "mimetype": "text/x-python",
   "name": "python",
   "nbconvert_exporter": "python",
   "pygments_lexer": "ipython3",
   "version": "3.12.11"
  }
 },
 "nbformat": 4,
 "nbformat_minor": 5
}
