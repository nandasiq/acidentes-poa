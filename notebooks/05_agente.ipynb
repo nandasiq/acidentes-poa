{
 "cells": [
  {
   "cell_type": "markdown",
   "id": "31e62bc4",
   "metadata": {},
   "source": [
    "### 1. Setup"
   ]
  },
  {
   "cell_type": "code",
   "execution_count": null,
   "id": "3ba94575",
   "metadata": {},
   "outputs": [],
   "source": [
    " \n",
    "from __future__ import annotations\n",
    "import os, sys, json, textwrap, warnings\n",
    "from pathlib import Path\n",
    "import numpy as np\n",
    "import pandas as pd\n",
    "\n",
    "# Visualização\n",
    "import matplotlib.pyplot as plt\n",
    "\n",
    "# ML utilidades\n",
    "from sklearn.preprocessing import StandardScaler\n",
    "from sklearn.impute import SimpleImputer\n",
    "from sklearn.pipeline import Pipeline\n",
    "from sklearn.compose import ColumnTransformer\n",
    "\n",
    "warnings.filterwarnings(\"ignore\")\n",
    "\n",
    "# Tenta importar utilitários do seu config.py (se existir)\n",
    "CONFIG_CANDIDATOS = [\n",
    "    Path(__file__).parent / \"config.py\",                        # notebook local\n",
    "    Path.cwd() / \"config.py\",                                   # pasta corrente\n",
    "    Path(\"../notebooks/config.py\"),                             # estrutura do repo\n",
    "    Path(\"./notebooks/config.py\"),\n",
    "]\n",
    "for cfg in CONFIG_CANDIDATOS:\n",
    "    if cfg.exists():\n",
    "        if str(cfg.parent) not in sys.path:\n",
    "            sys.path.insert(0, str(cfg.parent))\n",
    "        try:\n",
    "            import config as CFG  # type: ignore\n",
    "            print(f\"[OK] config.py carregado de: {cfg}\")\n",
    "            break\n",
    "        except Exception as e:\n",
    "            print(f\"[AVISO] Falha ao carregar {cfg}: {e}\")\n",
    "\n",
    "# Pastas padrão do projeto\n",
    "DIR_PROC = Path(\"../dados/processados\")\n",
    "DIR_INTER = Path(\"../dados/intermediarios\")\n",
    "DIR_GRAF = Path(\"../dados/processados/graficos\")\n",
    "DIR_PROC.mkdir(parents=True, exist_ok=True)\n",
    "DIR_GRAF.mkdir(parents=True, exist_ok=True)\n",
    "\n",
    "pd.set_option(\"display.max_columns\", 120)\n"
   ]
  }
 ],
 "metadata": {
  "language_info": {
   "name": "python"
  }
 },
 "nbformat": 4,
 "nbformat_minor": 5
}
